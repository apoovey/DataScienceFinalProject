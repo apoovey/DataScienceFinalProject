{
 "cells": [
  {
   "cell_type": "code",
   "execution_count": 1,
   "metadata": {},
   "outputs": [],
   "source": [
    "import pandas as pd"
   ]
  },
  {
   "cell_type": "code",
   "execution_count": 2,
   "metadata": {},
   "outputs": [],
   "source": [
    "df2 = pd.DataFrame()\n",
    "df3 = pd.DataFrame()"
   ]
  },
  {
   "cell_type": "code",
   "execution_count": 3,
   "metadata": {},
   "outputs": [
    {
     "name": "stderr",
     "output_type": "stream",
     "text": [
      "/usr/local/lib/python2.7/dist-packages/IPython/core/interactiveshell.py:2718: DtypeWarning: Columns (10) have mixed types. Specify dtype option on import or set low_memory=False.\n",
      "  interactivity=interactivity, compiler=compiler, result=result)\n",
      "/usr/local/lib/python2.7/dist-packages/IPython/core/interactiveshell.py:2718: DtypeWarning: Columns (7) have mixed types. Specify dtype option on import or set low_memory=False.\n",
      "  interactivity=interactivity, compiler=compiler, result=result)\n"
     ]
    }
   ],
   "source": [
    "data = pd.read_csv(\"movies_metadata.csv\")\n",
    "data2 = pd.read_csv(\"AllMoviesDetailsCleaned.csv\", sep=\";\")\n",
    "data3 = pd.read_csv(\"MovieData.csv\")\n",
    "movies = {}"
   ]
  },
  {
   "cell_type": "code",
   "execution_count": null,
   "metadata": {},
   "outputs": [
    {
     "name": "stdout",
     "output_type": "stream",
     "text": [
      "   adult                              belongs_to_collection    budget  \\\n",
      "0  False  {'id': 10194, 'name': 'Toy Story Collection', ...  30000000   \n",
      "\n",
      "                                              genres  \\\n",
      "0  [{'id': 16, 'name': 'Animation'}, {'id': 35, '...   \n",
      "\n",
      "                               homepage   id    imdb_id original_language  \\\n",
      "0  http://toystory.disney.com/toy-story  862  tt0114709                en   \n",
      "\n",
      "  original_title                                           overview  \\\n",
      "0      Toy Story  Led by Woody, Andy's toys live happily in his ...   \n",
      "\n",
      "     ...     release_date      revenue runtime  \\\n",
      "0    ...       1995-10-30  373554033.0    81.0   \n",
      "\n",
      "                           spoken_languages    status  tagline      title  \\\n",
      "0  [{'iso_639_1': 'en', 'name': 'English'}]  Released      NaN  Toy Story   \n",
      "\n",
      "   video vote_average vote_count  \n",
      "0  False          7.7     5415.0  \n",
      "\n",
      "[1 rows x 24 columns]\n"
     ]
    }
   ],
   "source": [
    "temp = []\n",
    "for index, row in data.iterrows():\n",
    "    x = row['revenue']\n",
    "    y = row['budget']\n",
    "    title = row['original_title']\n",
    "    if title not in movies.keys():\n",
    "        movies[title] = 1\n",
    "        if x > 100000 and row['original_language'] == \"en\":\n",
    "            temp.append(row)\n",
    "df1 = pd.DataFrame(temp)\n",
    "print df1.head(1)\n",
    "df1.to_csv('df1.csv')"
   ]
  },
  {
   "cell_type": "code",
   "execution_count": null,
   "metadata": {},
   "outputs": [],
   "source": [
    "temp = []\n",
    "for index, row in data2.iterrows():\n",
    "    x = row['revenue']\n",
    "    y = row['budget']\n",
    "    title = row['original_title']\n",
    "    if title not in movies.keys():\n",
    "        movies[title] = 1\n",
    "        if x > 100000 and row['original_language'] == \"en\":\n",
    "            temp.append(row)\n",
    "df2 = pd.DataFrame(temp)\n",
    "print df2.head(1)\n",
    "df2.to_csv('df2.csv')"
   ]
  },
  {
   "cell_type": "code",
   "execution_count": null,
   "metadata": {},
   "outputs": [],
   "source": [
    "temp = []\n",
    "print data3.head(1)\n",
    "for index, row in data3.iterrows():\n",
    "    title = row['movie_name']\n",
    "    x = row['production_budget']\n",
    "    y = row['domestic_box_office']\n",
    "    if title not in movies.keys():\n",
    "            if x != 0 and y > 100000:\n",
    "                temp.append(row)\n",
    "df3 = pd.DataFrame(temp)           \n",
    "print df3.head(1)\n",
    "df3.to_csv('df3.csv')"
   ]
  },
  {
   "cell_type": "code",
   "execution_count": null,
   "metadata": {},
   "outputs": [],
   "source": [
    "for elem in data.columns.tolist():\n",
    "    print elem"
   ]
  },
  {
   "cell_type": "code",
   "execution_count": null,
   "metadata": {},
   "outputs": [],
   "source": [
    "for elem in data2.columns.tolist():\n",
    "    print elem"
   ]
  },
  {
   "cell_type": "code",
   "execution_count": null,
   "metadata": {},
   "outputs": [],
   "source": [
    "columns = ['title', 'budget', 'release-year', 'runtime', 'genre']\n",
    "dataset = pd.DataFrame()"
   ]
  },
  {
   "cell_type": "code",
   "execution_count": null,
   "metadata": {},
   "outputs": [],
   "source": [
    "df1 = pd.read_csv('df1.csv')\n",
    "df2 = pd.read_csv('df2.csv')\n",
    "l1 = df1.columns.tolist()\n",
    "l2 = df2.columns.tolist()\n",
    "for elem in l1:\n",
    "    if elem not in l2:\n",
    "        print elem\n",
    "print 'elems from df2'\n",
    "for elem in l2:\n",
    "    if elem not in l1:\n",
    "        print elem\n",
    "df1 = df1.drop(['adult', 'belongs_to_collection', 'id', 'poster_path', 'video'], axis=1)\n",
    "df2 = df2.drop(['production_companies_number', 'production_countries_number', 'spoken_languages_number'], axis=1)"
   ]
  },
  {
   "cell_type": "code",
   "execution_count": null,
   "metadata": {},
   "outputs": [],
   "source": [
    "dataset = pd.concat([df1, df2])\n",
    "print dataset.head(1)"
   ]
  },
  {
   "cell_type": "code",
   "execution_count": null,
   "metadata": {},
   "outputs": [],
   "source": [
    "for elem in dataset.columns.tolist():\n",
    "    print elem"
   ]
  },
  {
   "cell_type": "code",
   "execution_count": null,
   "metadata": {},
   "outputs": [],
   "source": [
    "dataset.to_csv(\"data/movies.csv\")"
   ]
  },
  {
   "cell_type": "code",
   "execution_count": null,
   "metadata": {},
   "outputs": [],
   "source": [
    "sum = 0\n",
    "rows = 0\n",
    "names = {}\n",
    "for index, row in dataset.iterrows():\n",
    "    rows +=  1\n",
    "    if row['budget'] == 0:\n",
    "        sum += 1\n",
    "#         print row['original_title']\n",
    "print sum\n",
    "print rows"
   ]
  },
  {
   "cell_type": "code",
   "execution_count": null,
   "metadata": {},
   "outputs": [],
   "source": []
  }
 ],
 "metadata": {
  "kernelspec": {
   "display_name": "Python 2",
   "language": "python",
   "name": "python2"
  },
  "language_info": {
   "codemirror_mode": {
    "name": "ipython",
    "version": 2
   },
   "file_extension": ".py",
   "mimetype": "text/x-python",
   "name": "python",
   "nbconvert_exporter": "python",
   "pygments_lexer": "ipython2",
   "version": "2.7.12"
  }
 },
 "nbformat": 4,
 "nbformat_minor": 2
}
