{
 "cells": [
  {
   "cell_type": "code",
   "execution_count": 1,
   "metadata": {},
   "outputs": [],
   "source": [
    "from sklearn.feature_extraction.text import TfidfTransformer, CountVectorizer\n",
    "import pandas as pd\n",
    "from sklearn.linear_model import Lasso\n",
    "from sklearn.naive_bayes import MultinomialNB\n",
    "from sklearn.metrics import mean_squared_error\n",
    "import numpy as np"
   ]
  },
  {
   "cell_type": "code",
   "execution_count": 2,
   "metadata": {},
   "outputs": [
    {
     "name": "stdout",
     "output_type": "stream",
     "text": [
      "A Wake in Providence\n",
      "45 Days\n",
      "Hasan and Murqus\n",
      "The Nutcracker and the Mouseking\n",
      "Mars: Pioneering the Planet\n"
     ]
    }
   ],
   "source": [
    "data = pd.read_csv('data/data_adj.csv')\n",
    "for index, row in data.iterrows():\n",
    "    if pd.isnull(row[\"overview\"]) or row['overview'] == 0:\n",
    "        print row['title']\n",
    "        data.drop(index, inplace=True)\n"
   ]
  },
  {
   "cell_type": "code",
   "execution_count": 3,
   "metadata": {},
   "outputs": [],
   "source": [
    "count_vect = CountVectorizer()\n",
    "X_train_counts = count_vect.fit_transform(data['overview'])\n",
    "tf_transformer = TfidfTransformer(use_idf=False).fit(X_train_counts)\n",
    "X_train_tf = tf_transformer.transform(X_train_counts)"
   ]
  },
  {
   "cell_type": "code",
   "execution_count": 4,
   "metadata": {},
   "outputs": [
    {
     "name": "stdout",
     "output_type": "stream",
     "text": [
      "Unnamed: 0\n",
      "Unnamed: 0.1\n",
      "Unnamed: 0.1\n",
      "Unnamed: 0.1.1\n",
      "budget\n",
      "genres\n",
      "homepage\n",
      "id\n",
      "imdb_id\n",
      "original_language\n",
      "original_title\n",
      "overview\n",
      "popularity\n",
      "production_companies\n",
      "production_countries\n",
      "release_date\n",
      "revenue\n",
      "runtime\n",
      "spoken_languages\n",
      "status\n",
      "tagline\n",
      "title\n",
      "vote_average\n",
      "vote_count\n",
      "year\n",
      "month\n",
      "adjusted_budget\n",
      "adjusted_revenue\n"
     ]
    }
   ],
   "source": [
    "for elem in data.columns.tolist():\n",
    "    print elem"
   ]
  },
  {
   "cell_type": "code",
   "execution_count": 5,
   "metadata": {},
   "outputs": [],
   "source": [
    "clf = MultinomialNB().fit(X_train_tf, np.asarray(data['vote_average'], dtype='|S6'))"
   ]
  },
  {
   "cell_type": "code",
   "execution_count": 6,
   "metadata": {},
   "outputs": [
    {
     "name": "stdout",
     "output_type": "stream",
     "text": [
      "  (0, 6034)\t0.11470786693528087\n",
      "  (0, 1493)\t0.11470786693528087\n",
      "  (0, 16845)\t0.11470786693528087\n",
      "  (0, 21474)\t0.11470786693528087\n",
      "  (0, 12282)\t0.11470786693528087\n",
      "  (0, 7451)\t0.11470786693528087\n",
      "  (0, 6720)\t0.11470786693528087\n",
      "  (0, 15303)\t0.11470786693528087\n",
      "  (0, 21243)\t0.22941573387056174\n",
      "  (0, 8593)\t0.11470786693528087\n",
      "  (0, 1082)\t0.11470786693528087\n",
      "  (0, 18895)\t0.11470786693528087\n",
      "  (0, 4022)\t0.11470786693528087\n",
      "  (0, 23158)\t0.11470786693528087\n",
      "  (0, 3190)\t0.11470786693528087\n",
      "  (0, 729)\t0.11470786693528087\n",
      "  (0, 16080)\t0.11470786693528087\n",
      "  (0, 9776)\t0.11470786693528087\n",
      "  (0, 16008)\t0.11470786693528087\n",
      "  (0, 12737)\t0.11470786693528087\n",
      "  (0, 14921)\t0.11470786693528087\n",
      "  (0, 716)\t0.11470786693528087\n",
      "  (0, 18595)\t0.11470786693528087\n",
      "  (0, 21234)\t0.22941573387056174\n",
      "  (0, 15009)\t0.11470786693528087\n",
      "  :\t:\n",
      "  (5919, 17972)\t0.14285714285714285\n",
      "  (5919, 21960)\t0.14285714285714285\n",
      "  (5919, 18763)\t0.14285714285714285\n",
      "  (5919, 5084)\t0.14285714285714285\n",
      "  (5919, 11224)\t0.14285714285714285\n",
      "  (5919, 11097)\t0.2857142857142857\n",
      "  (5919, 8367)\t0.14285714285714285\n",
      "  (5919, 21228)\t0.14285714285714285\n",
      "  (5919, 729)\t0.14285714285714285\n",
      "  (5919, 14921)\t0.2857142857142857\n",
      "  (5919, 21234)\t0.7142857142857143\n",
      "  (5920, 21323)\t0.24253562503633297\n",
      "  (5920, 17992)\t0.24253562503633297\n",
      "  (5920, 19274)\t0.24253562503633297\n",
      "  (5920, 15050)\t0.24253562503633297\n",
      "  (5920, 8313)\t0.24253562503633297\n",
      "  (5920, 2338)\t0.24253562503633297\n",
      "  (5920, 3015)\t0.24253562503633297\n",
      "  (5920, 8080)\t0.24253562503633297\n",
      "  (5920, 17486)\t0.24253562503633297\n",
      "  (5920, 21999)\t0.24253562503633297\n",
      "  (5920, 14994)\t0.24253562503633297\n",
      "  (5920, 1082)\t0.24253562503633297\n",
      "  (5920, 14921)\t0.24253562503633297\n",
      "  (5920, 21234)\t0.48507125007266594\n"
     ]
    }
   ],
   "source": [
    "print X_train_tf"
   ]
  },
  {
   "cell_type": "code",
   "execution_count": 7,
   "metadata": {},
   "outputs": [
    {
     "name": "stdout",
     "output_type": "stream",
     "text": [
      "Unnamed: 0\n",
      "Unnamed: 0.1\n",
      "Unnamed: 0.1\n",
      "Unnamed: 0.1.1\n",
      "budget\n",
      "genres\n",
      "homepage\n",
      "id\n",
      "imdb_id\n",
      "original_language\n",
      "original_title\n",
      "overview\n",
      "popularity\n",
      "production_companies\n",
      "production_countries\n",
      "release_date\n",
      "revenue\n",
      "runtime\n",
      "spoken_languages\n",
      "status\n",
      "tagline\n",
      "title\n",
      "vote_average\n",
      "vote_count\n",
      "year\n",
      "month\n",
      "adjusted_budget\n",
      "adjusted_revenue\n"
     ]
    }
   ],
   "source": [
    "for elem in data.columns.tolist():\n",
    "    print elem"
   ]
  },
  {
   "cell_type": "code",
   "execution_count": 8,
   "metadata": {},
   "outputs": [],
   "source": [
    "clf = LassoCV(alphas=[.01, .1, .5, 1]).fit(X_train_tf, data['adjusted_revenue'])"
   ]
  },
  {
   "cell_type": "code",
   "execution_count": 9,
   "metadata": {},
   "outputs": [
    {
     "data": {
      "text/plain": [
       "8793257087.591755"
      ]
     },
     "execution_count": 9,
     "metadata": {},
     "output_type": "execute_result"
    }
   ],
   "source": [
    "mean_squared_error(data['adjusted_revenue'], clf.predict(X_train_tf))"
   ]
  },
  {
   "cell_type": "code",
   "execution_count": 5,
   "metadata": {},
   "outputs": [],
   "source": [
    "from sklearn.model_selection import train_test_split"
   ]
  },
  {
   "cell_type": "code",
   "execution_count": 6,
   "metadata": {},
   "outputs": [],
   "source": [
    "X_train, X_test, y_train, y_test = train_test_split(X_train_tf, data['adjusted_revenue'], test_size=.03)"
   ]
  },
  {
   "cell_type": "code",
   "execution_count": 7,
   "metadata": {},
   "outputs": [
    {
     "data": {
      "text/plain": [
       "1.2558541854518923e+17"
      ]
     },
     "execution_count": 7,
     "metadata": {},
     "output_type": "execute_result"
    }
   ],
   "source": [
    "clf = Lasso(alpha=.1).fit(X_train, y_train)\n",
    "mean_squared_error(y_test, clf.predict(X_test))"
   ]
  },
  {
   "cell_type": "code",
   "execution_count": null,
   "metadata": {},
   "outputs": [],
   "source": []
  }
 ],
 "metadata": {
  "kernelspec": {
   "display_name": "Python 2",
   "language": "python",
   "name": "python2"
  },
  "language_info": {
   "codemirror_mode": {
    "name": "ipython",
    "version": 2
   },
   "file_extension": ".py",
   "mimetype": "text/x-python",
   "name": "python",
   "nbconvert_exporter": "python",
   "pygments_lexer": "ipython2",
   "version": "2.7.12"
  }
 },
 "nbformat": 4,
 "nbformat_minor": 2
}
