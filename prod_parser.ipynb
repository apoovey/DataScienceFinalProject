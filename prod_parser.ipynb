{
 "cells": [
  {
   "cell_type": "code",
   "execution_count": 54,
   "metadata": {},
   "outputs": [],
   "source": [
    "import pandas as pd\n",
    "from bs4 import BeautifulSoup\n",
    "import requests\n",
    "from re import sub\n",
    "from urllib2 import urlopen\n",
    "from decimal import Decimal"
   ]
  },
  {
   "cell_type": "code",
   "execution_count": 111,
   "metadata": {},
   "outputs": [],
   "source": [
    "def scrape_site(url):\n",
    "    sum_m = 0\n",
    "    prods = []\n",
    "    num_movies = []\n",
    "    dom_box_office = []\n",
    "    int_box_office = []\n",
    "    data = pd.DataFrame()\n",
    "    visited = set()\n",
    "    resp = requests.get(url)\n",
    "    soup = BeautifulSoup(resp.text)\n",
    "    table = soup.find(\"table\")\n",
    "    count = 1\n",
    "    for row in table.findAll(\"tr\"):\n",
    "        if count > 0:\n",
    "            count -= 1\n",
    "            continue\n",
    "        cells = row.findAll('td')\n",
    "        prod_studio =  cells[0].find('b').find('a').contents[0]\n",
    "        num_m = cells[1].contents[0]\n",
    "        sum_m += int(num_m)\n",
    "        dom_box = Decimal(sub(r'[^\\d.]', '',cells[2].contents[0]))\n",
    "        if(dom_box < 150000000):\n",
    "            break\n",
    "        # to check average box office or change the range \n",
    "        int_box = Decimal(sub(r'[^\\d.]', '',cells[3].contents[0]))\n",
    "        prods.append(prod_studio)\n",
    "        num_movies.append(num_m)\n",
    "        dom_box_office.append(dom_box)\n",
    "        int_box_office.append(int_box)\n",
    "    data['prod_company'] = prods\n",
    "    data['num_movies'] = num_movies\n",
    "    data['dom_box_office'] = dom_box_office\n",
    "    data['int_box_office'] = int_box_office\n",
    "    print sum_m\n",
    "    return data\n"
   ]
  },
  {
   "cell_type": "code",
   "execution_count": 109,
   "metadata": {},
   "outputs": [
    {
     "name": "stdout",
     "output_type": "stream",
     "text": [
      "7371\n"
     ]
    },
    {
     "data": {
      "text/html": [
       "<div>\n",
       "<table border=\"1\" class=\"dataframe\">\n",
       "  <thead>\n",
       "    <tr style=\"text-align: right;\">\n",
       "      <th></th>\n",
       "      <th>prod_company</th>\n",
       "      <th>num_movies</th>\n",
       "      <th>dom_box_office</th>\n",
       "      <th>int_box_office</th>\n",
       "    </tr>\n",
       "  </thead>\n",
       "  <tbody>\n",
       "    <tr>\n",
       "      <th>0</th>\n",
       "      <td>Warner Bros.</td>\n",
       "      <td>186</td>\n",
       "      <td>15272696394</td>\n",
       "      <td>34916308610</td>\n",
       "    </tr>\n",
       "  </tbody>\n",
       "</table>\n",
       "</div>"
      ],
      "text/plain": [
       "   prod_company num_movies dom_box_office int_box_office\n",
       "0  Warner Bros.        186    15272696394    34916308610"
      ]
     },
     "execution_count": 109,
     "metadata": {},
     "output_type": "execute_result"
    }
   ],
   "source": [
    "data = scrape_site('https://www.the-numbers.com/movies/production-companies/')\n",
    "data.head(1)"
   ]
  },
  {
   "cell_type": "code",
   "execution_count": 59,
   "metadata": {},
   "outputs": [],
   "source": [
    "data.to_csv('data/high_prods.csv')\n"
   ]
  },
  {
   "cell_type": "code",
   "execution_count": 60,
   "metadata": {},
   "outputs": [
    {
     "data": {
      "text/plain": [
       "676"
      ]
     },
     "execution_count": 60,
     "metadata": {},
     "output_type": "execute_result"
    }
   ],
   "source": [
    "for index, row in check.itterrows:\n",
    "    print row"
   ]
  },
  {
   "cell_type": "code",
   "execution_count": 114,
   "metadata": {},
   "outputs": [
    {
     "name": "stdout",
     "output_type": "stream",
     "text": [
      "5873\n"
     ]
    }
   ],
   "source": [
    "data = pd.read_csv('data/data_genre_cleaned.csv')\n",
    "check = pd.read_csv('data/high_prods.csv')\n",
    "count = 0\n",
    "high_prod = []\n",
    "map = {}\n",
    "for index, row in data.iterrows():\n",
    "    arr = row['production_companies'].split('\\'')\n",
    "    bounds = 3\n",
    "    if len(arr) >= bounds:\n",
    "        elem = arr[bounds]\n",
    "        boolean = 'Universal Pictures' in elem or 'Pure Flix' in elem\n",
    "        if boolean or 'TriStar Pictures' == elem or 'Metro-Goldwyn-Mayer (MGM)' == elem or 'Lions ' in elem or 'Sony' in elem or 'Fox' in elem or check['prod_company'].map(lambda com: elem in com).any():\n",
    "            high_prod.append(1)\n",
    "            continue\n",
    "        else:\n",
    "            if elem not in map.keys():\n",
    "                map[elem] = 1\n",
    "    high_prod.append(0)\n",
    "# for elem in map:\n",
    "#     print elem\n",
    "print len(high_prod)"
   ]
  },
  {
   "cell_type": "code",
   "execution_count": 91,
   "metadata": {},
   "outputs": [
    {
     "data": {
      "text/plain": [
       "False"
      ]
     },
     "execution_count": 91,
     "metadata": {},
     "output_type": "execute_result"
    }
   ],
   "source": [
    "(data['production_companies'] == 'Pixar Animation Studios').any()"
   ]
  },
  {
   "cell_type": "code",
   "execution_count": 70,
   "metadata": {},
   "outputs": [
    {
     "data": {
      "text/plain": [
       "'Interscope Communications'"
      ]
     },
     "execution_count": 70,
     "metadata": {},
     "output_type": "execute_result"
    }
   ],
   "source": [
    "data['production_companies'][1].split('\\'')[15]"
   ]
  },
  {
   "cell_type": "code",
   "execution_count": null,
   "metadata": {},
   "outputs": [],
   "source": []
  }
 ],
 "metadata": {
  "kernelspec": {
   "display_name": "Python 2",
   "language": "python",
   "name": "python2"
  },
  "language_info": {
   "codemirror_mode": {
    "name": "ipython",
    "version": 2
   },
   "file_extension": ".py",
   "mimetype": "text/x-python",
   "name": "python",
   "nbconvert_exporter": "python",
   "pygments_lexer": "ipython2",
   "version": "2.7.12"
  }
 },
 "nbformat": 4,
 "nbformat_minor": 2
}
