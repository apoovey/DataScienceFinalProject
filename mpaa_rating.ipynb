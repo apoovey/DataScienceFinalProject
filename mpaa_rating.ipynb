{
 "cells": [
  {
   "cell_type": "code",
   "execution_count": 1,
   "metadata": {},
   "outputs": [],
   "source": [
    "# hoping the site doesnt ban my ip\n",
    "import pandas as pd\n",
    "from bs4 import BeautifulSoup\n",
    "from urllib2 import urlopen\n",
    "from decimal import Decimal\n",
    "from selenium import webdriver\n",
    "from selenium.common.exceptions import TimeoutException\n",
    "from selenium.webdriver.support.ui import WebDriverWait\n",
    "from selenium.webdriver.support import expected_conditions as EC\n",
    "from selenium.webdriver.common.by import By"
   ]
  },
  {
   "cell_type": "code",
   "execution_count": null,
   "metadata": {},
   "outputs": [
    {
     "name": "stderr",
     "output_type": "stream",
     "text": [
      "/usr/local/lib/python2.7/dist-packages/selenium/webdriver/phantomjs/webdriver.py:49: UserWarning: Selenium support for PhantomJS has been deprecated, please use headless versions of Chrome or Firefox instead\n",
      "  warnings.warn('Selenium support for PhantomJS has been deprecated, please use headless '\n",
      "/usr/local/lib/python2.7/dist-packages/bs4/__init__.py:181: UserWarning: No parser was explicitly specified, so I'm using the best available HTML parser for this system (\"lxml\"). This usually isn't a problem, but if you run this code on another system, or in a different virtual environment, it may use a different parser and behave differently.\n",
      "\n",
      "The code that caused this warning is on line 174 of the file /usr/lib/python2.7/runpy.py. To get rid of this warning, change code that looks like this:\n",
      "\n",
      " BeautifulSoup([your markup])\n",
      "\n",
      "to this:\n",
      "\n",
      " BeautifulSoup([your markup], \"lxml\")\n",
      "\n",
      "  markup_type=markup_type))\n"
     ]
    },
    {
     "name": "stdout",
     "output_type": "stream",
     "text": [
      "https://filmratings.com/Search?filmTitle=Toy_Story\n",
      "https://filmratings.com/Search?filmTitle=Jumanji\n",
      "https://filmratings.com/Search?filmTitle=Waiting_to_Exhale\n",
      "https://filmratings.com/Search?filmTitle=Father_of_the_Bride_Part_II\n",
      "https://filmratings.com/Search?filmTitle=Heat\n"
     ]
    }
   ],
   "source": [
    "site_url = 'https://filmratings.com/Search?filmTitle='\n",
    "data = pd.read_csv('data/data_rec.csv')\n",
    "ratings = []\n",
    "for index, row in data.iterrows():\n",
    "    title = row['title']\n",
    "    title = title.replace(\" \",\"_\")\n",
    "    url = site_url + title\n",
    "    browser = webdriver.PhantomJS()\n",
    "    browser.get(url)\n",
    "    timeout = 5\n",
    "    try:\n",
    "        element_present = EC.presence_of_element_located((By.CLASS_NAME, 'resultRow'))\n",
    "        WebDriverWait(browser, timeout).until(element_present)\n",
    "    except TimeoutException:\n",
    "        print row['title']\n",
    "        pass\n",
    "        ratings.append('none')\n",
    "        continue\n",
    "    soup = BeautifulSoup(browser.page_source)\n",
    "    print url\n",
    "#     print soup\n",
    "    table = soup.find('div', {'class' :'resultRow' })\n",
    "    rating = table.find('div', {'class': 'resultData _filmRating'})\n",
    "    rating =  str(rating.contents).split('\\'')[1]\n",
    "    ratings.append(rating)\n",
    "    "
   ]
  },
  {
   "cell_type": "code",
   "execution_count": 41,
   "metadata": {},
   "outputs": [
    {
     "name": "stdout",
     "output_type": "stream",
     "text": [
      "hello\n"
     ]
    }
   ],
   "source": [
    "print 'hello'"
   ]
  },
  {
   "cell_type": "code",
   "execution_count": null,
   "metadata": {},
   "outputs": [],
   "source": []
  }
 ],
 "metadata": {
  "kernelspec": {
   "display_name": "Python 2",
   "language": "python",
   "name": "python2"
  },
  "language_info": {
   "codemirror_mode": {
    "name": "ipython",
    "version": 2
   },
   "file_extension": ".py",
   "mimetype": "text/x-python",
   "name": "python",
   "nbconvert_exporter": "python",
   "pygments_lexer": "ipython2",
   "version": "2.7.12"
  }
 },
 "nbformat": 4,
 "nbformat_minor": 2
}
