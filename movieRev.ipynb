{
 "cells": [
  {
   "cell_type": "code",
   "execution_count": 79,
   "metadata": {
    "collapsed": true
   },
   "outputs": [],
   "source": [
    "import csv\n",
    "import pandas as pd\n",
    "from pandas import *\n",
    "import numpy as np\n",
    "import matplotlib.pyplot as plt\n",
    "from mpl_toolkits.mplot3d import Axes3D\n",
    "import math\n",
    "import seaborn as sns\n",
    "import collections\n",
    "from sklearn.decomposition import PCA\n",
    "from sklearn.metrics import mean_absolute_error\n",
    "from sklearn.model_selection import train_test_split\n",
    "from sklearn.metrics import mean_squared_error\n",
    "import xgboost\n",
    "from numpy import linalg as LA\n",
    "import matplotlib.pyplot as plt\n",
    "import numpy as np\n",
    "from sklearn import datasets, linear_model\n",
    "from sklearn.metrics import mean_squared_error, r2_score"
   ]
  },
  {
   "cell_type": "code",
   "execution_count": 93,
   "metadata": {},
   "outputs": [
    {
     "data": {
      "text/html": [
       "<div>\n",
       "<style scoped>\n",
       "    .dataframe tbody tr th:only-of-type {\n",
       "        vertical-align: middle;\n",
       "    }\n",
       "\n",
       "    .dataframe tbody tr th {\n",
       "        vertical-align: top;\n",
       "    }\n",
       "\n",
       "    .dataframe thead th {\n",
       "        text-align: right;\n",
       "    }\n",
       "</style>\n",
       "<table border=\"1\" class=\"dataframe\">\n",
       "  <thead>\n",
       "    <tr style=\"text-align: right;\">\n",
       "      <th></th>\n",
       "      <th>month</th>\n",
       "      <th>year</th>\n",
       "      <th>adjusted_budget</th>\n",
       "      <th>runtime</th>\n",
       "      <th>popularity</th>\n",
       "      <th>vote_average</th>\n",
       "      <th>vote_count</th>\n",
       "      <th>adjusted_revenue</th>\n",
       "      <th>genre_Action</th>\n",
       "      <th>genre_Adventure</th>\n",
       "      <th>...</th>\n",
       "      <th>actor2_gender_1.0</th>\n",
       "      <th>actor2_gender_2.0</th>\n",
       "      <th>actor3_gender_1.0</th>\n",
       "      <th>actor3_gender_2.0</th>\n",
       "      <th>director_noms</th>\n",
       "      <th>director_wins</th>\n",
       "      <th>prev_yr_gross_per_movie</th>\n",
       "      <th>prod_company_dom_box_office</th>\n",
       "      <th>prod_company_dom_box_office_per_movie</th>\n",
       "      <th>star_power</th>\n",
       "    </tr>\n",
       "  </thead>\n",
       "  <tbody>\n",
       "    <tr>\n",
       "      <th>0</th>\n",
       "      <td>10</td>\n",
       "      <td>1995</td>\n",
       "      <td>4.825716e+07</td>\n",
       "      <td>81.0</td>\n",
       "      <td>21.946943</td>\n",
       "      <td>7.7</td>\n",
       "      <td>5415.0</td>\n",
       "      <td>6.008886e+08</td>\n",
       "      <td>0.0</td>\n",
       "      <td>0.0</td>\n",
       "      <td>...</td>\n",
       "      <td>0</td>\n",
       "      <td>1</td>\n",
       "      <td>0</td>\n",
       "      <td>1</td>\n",
       "      <td>65</td>\n",
       "      <td>36</td>\n",
       "      <td>1.191214e+07</td>\n",
       "      <td>4939873843</td>\n",
       "      <td>235232087</td>\n",
       "      <td>472</td>\n",
       "    </tr>\n",
       "    <tr>\n",
       "      <th>1</th>\n",
       "      <td>12</td>\n",
       "      <td>1995</td>\n",
       "      <td>1.045572e+08</td>\n",
       "      <td>104.0</td>\n",
       "      <td>17.015539</td>\n",
       "      <td>6.9</td>\n",
       "      <td>2413.0</td>\n",
       "      <td>4.227283e+08</td>\n",
       "      <td>0.0</td>\n",
       "      <td>1.0</td>\n",
       "      <td>...</td>\n",
       "      <td>0</td>\n",
       "      <td>1</td>\n",
       "      <td>1</td>\n",
       "      <td>0</td>\n",
       "      <td>8</td>\n",
       "      <td>2</td>\n",
       "      <td>1.191214e+07</td>\n",
       "      <td>1643337362</td>\n",
       "      <td>45648260</td>\n",
       "      <td>142</td>\n",
       "    </tr>\n",
       "    <tr>\n",
       "      <th>2</th>\n",
       "      <td>12</td>\n",
       "      <td>1995</td>\n",
       "      <td>2.573715e+07</td>\n",
       "      <td>127.0</td>\n",
       "      <td>3.859495</td>\n",
       "      <td>6.1</td>\n",
       "      <td>34.0</td>\n",
       "      <td>1.310217e+08</td>\n",
       "      <td>0.0</td>\n",
       "      <td>0.0</td>\n",
       "      <td>...</td>\n",
       "      <td>1</td>\n",
       "      <td>0</td>\n",
       "      <td>1</td>\n",
       "      <td>0</td>\n",
       "      <td>101</td>\n",
       "      <td>56</td>\n",
       "      <td>1.191214e+07</td>\n",
       "      <td>1593531455</td>\n",
       "      <td>54949360</td>\n",
       "      <td>94</td>\n",
       "    </tr>\n",
       "    <tr>\n",
       "      <th>3</th>\n",
       "      <td>2</td>\n",
       "      <td>1995</td>\n",
       "      <td>0.000000e+00</td>\n",
       "      <td>106.0</td>\n",
       "      <td>8.387519000000001</td>\n",
       "      <td>5.7</td>\n",
       "      <td>173.0</td>\n",
       "      <td>1.231827e+08</td>\n",
       "      <td>0.0</td>\n",
       "      <td>0.0</td>\n",
       "      <td>...</td>\n",
       "      <td>1</td>\n",
       "      <td>0</td>\n",
       "      <td>0</td>\n",
       "      <td>1</td>\n",
       "      <td>5</td>\n",
       "      <td>2</td>\n",
       "      <td>1.191214e+07</td>\n",
       "      <td>0</td>\n",
       "      <td>0</td>\n",
       "      <td>125</td>\n",
       "    </tr>\n",
       "    <tr>\n",
       "      <th>4</th>\n",
       "      <td>12</td>\n",
       "      <td>1995</td>\n",
       "      <td>9.651433e+07</td>\n",
       "      <td>170.0</td>\n",
       "      <td>17.924927</td>\n",
       "      <td>7.7</td>\n",
       "      <td>1886.0</td>\n",
       "      <td>3.015056e+08</td>\n",
       "      <td>1.0</td>\n",
       "      <td>0.0</td>\n",
       "      <td>...</td>\n",
       "      <td>0</td>\n",
       "      <td>1</td>\n",
       "      <td>0</td>\n",
       "      <td>1</td>\n",
       "      <td>46</td>\n",
       "      <td>17</td>\n",
       "      <td>1.191214e+07</td>\n",
       "      <td>5264430500</td>\n",
       "      <td>39286794</td>\n",
       "      <td>152</td>\n",
       "    </tr>\n",
       "  </tbody>\n",
       "</table>\n",
       "<p>5 rows × 43 columns</p>\n",
       "</div>"
      ],
      "text/plain": [
       "   month  year  adjusted_budget  runtime         popularity  vote_average  \\\n",
       "0     10  1995     4.825716e+07     81.0          21.946943           7.7   \n",
       "1     12  1995     1.045572e+08    104.0          17.015539           6.9   \n",
       "2     12  1995     2.573715e+07    127.0           3.859495           6.1   \n",
       "3      2  1995     0.000000e+00    106.0  8.387519000000001           5.7   \n",
       "4     12  1995     9.651433e+07    170.0          17.924927           7.7   \n",
       "\n",
       "   vote_count  adjusted_revenue  genre_Action  genre_Adventure     ...      \\\n",
       "0      5415.0      6.008886e+08           0.0              0.0     ...       \n",
       "1      2413.0      4.227283e+08           0.0              1.0     ...       \n",
       "2        34.0      1.310217e+08           0.0              0.0     ...       \n",
       "3       173.0      1.231827e+08           0.0              0.0     ...       \n",
       "4      1886.0      3.015056e+08           1.0              0.0     ...       \n",
       "\n",
       "   actor2_gender_1.0  actor2_gender_2.0  actor3_gender_1.0  actor3_gender_2.0  \\\n",
       "0                  0                  1                  0                  1   \n",
       "1                  0                  1                  1                  0   \n",
       "2                  1                  0                  1                  0   \n",
       "3                  1                  0                  0                  1   \n",
       "4                  0                  1                  0                  1   \n",
       "\n",
       "   director_noms  director_wins  prev_yr_gross_per_movie  \\\n",
       "0             65             36             1.191214e+07   \n",
       "1              8              2             1.191214e+07   \n",
       "2            101             56             1.191214e+07   \n",
       "3              5              2             1.191214e+07   \n",
       "4             46             17             1.191214e+07   \n",
       "\n",
       "   prod_company_dom_box_office  prod_company_dom_box_office_per_movie  \\\n",
       "0                   4939873843                              235232087   \n",
       "1                   1643337362                               45648260   \n",
       "2                   1593531455                               54949360   \n",
       "3                            0                                      0   \n",
       "4                   5264430500                               39286794   \n",
       "\n",
       "   star_power  \n",
       "0         472  \n",
       "1         142  \n",
       "2          94  \n",
       "3         125  \n",
       "4         152  \n",
       "\n",
       "[5 rows x 43 columns]"
      ]
     },
     "execution_count": 93,
     "metadata": {},
     "output_type": "execute_result"
    }
   ],
   "source": [
    "dataraw = pd.read_csv(\"C:\\Users\\gilad\\Downloads\\DataScienceFinalProject-master\\data\\data_rec.csv\", index_col=0)\n",
    "# remove all movies with no power score\n",
    "data = dataraw[dataraw['year'] > 1980].drop([\"title\", \"director\", \"actor1\", \"actor2\", \"actor3\", \"original_language\", \"id\", \"production_companies\", \"prod_company\", \"production_countries\"], axis=1)\n",
    "myX = pd.read_csv(\"C:\\Users\\gilad\\Downloads\\\\finalProject\\X.csv\", index_col=0)\n",
    "myX = myX[myX['year'] > 1980]\n",
    "data.head()"
   ]
  },
  {
   "cell_type": "code",
   "execution_count": 94,
   "metadata": {},
   "outputs": [
    {
     "name": "stdout",
     "output_type": "stream",
     "text": [
      "(5264, 44)\n",
      "(5264, 1)\n"
     ]
    }
   ],
   "source": [
    "print myX.shape\n",
    "print Y.shape"
   ]
  },
  {
   "cell_type": "code",
   "execution_count": 95,
   "metadata": {},
   "outputs": [
    {
     "data": {
      "text/plain": [
       "<matplotlib.axes._subplots.AxesSubplot at 0xea5eac8>"
      ]
     },
     "execution_count": 95,
     "metadata": {},
     "output_type": "execute_result"
    },
    {
     "data": {
      "image/png": "[encoded data removed]",
      "text/plain": [
       "<matplotlib.figure.Figure at 0x157a37f0>"
      ]
     },
     "metadata": {},
     "output_type": "display_data"
    }
   ],
   "source": [
    "%matplotlib inline\n",
    "\n",
    "# calculate the correlation matrix\n",
    "corr = data.corr()\n",
    "\n",
    "# plot the heatmap\n",
    "sns.heatmap(corr, xticklabels=corr.columns, yticklabels=corr.columns)"
   ]
  },
  {
   "cell_type": "code",
   "execution_count": 96,
   "metadata": {},
   "outputs": [
    {
     "name": "stdout",
     "output_type": "stream",
     "text": [
      "the following lists all the correlation values of all features with our label, the movie revenue:\n",
      "\n",
      "genre_TV Movie                           0.002921\n",
      "genre_Western                            0.005839\n",
      "actor2_gender_1.0                        0.006633\n",
      "genre_Mystery                            0.007754\n",
      "genre_Music                              0.012304\n",
      "genre_History                            0.012742\n",
      "genre_Crime                              0.012837\n",
      "actor3_gender_1.0                        0.014953\n",
      "genre_Thriller                           0.016627\n",
      "genre_Romance                            0.027539\n",
      "genre_War                                0.028620\n",
      "genre_Foreign                            0.032004\n",
      "prev_yr_gross_per_movie                  0.044231\n",
      "year                                     0.048288\n",
      "month                                    0.050172\n",
      "genre_Comedy                             0.051970\n",
      "director_gender_1.0                      0.053169\n",
      "actor3_gender_2.0                        0.057889\n",
      "actor1_gender_1.0                        0.059897\n",
      "genre_Horror                             0.066283\n",
      "actor2_gender_2.0                        0.067738\n",
      "genre_Documentary                        0.071108\n",
      "genre_Science Fiction                    0.081982\n",
      "actor1_gender_2.0                        0.112495\n",
      "genre_Drama                              0.118945\n",
      "genre_Family                             0.127026\n",
      "genre_Fantasy                            0.132313\n",
      "genre_Animation                          0.140318\n",
      "director_gender_2.0                      0.141909\n",
      "director_noms                            0.153415\n",
      "director_wins                            0.155254\n",
      "genre_Action                             0.157868\n",
      "vote_average                             0.213901\n",
      "genre_Adventure                          0.223929\n",
      "prod_company_dom_box_office              0.242595\n",
      "runtime                                  0.272155\n",
      "high_prod                                0.280174\n",
      "star_power                               0.326498\n",
      "prod_company_dom_box_office_per_movie    0.405792\n",
      "adjusted_budget                          0.692830\n",
      "vote_count                               0.741076\n",
      "adjusted_revenue                         1.000000\n",
      "Name: adjusted_revenue, dtype: float64\n"
     ]
    }
   ],
   "source": [
    "c = data.corr()['adjusted_revenue'].abs()\n",
    "so = c.sort_values(kind='quicksort')\n",
    "print \"the following lists all the correlation values of all features with our label, the movie revenue:\\n\"\n",
    "print(so)"
   ]
  },
  {
   "cell_type": "code",
   "execution_count": 97,
   "metadata": {
    "collapsed": true
   },
   "outputs": [],
   "source": [
    "# separate data into features and label\n",
    "X = data.drop(['adjusted_revenue'], axis=1)\n",
    "Y = data[['adjusted_revenue']]"
   ]
  },
  {
   "cell_type": "code",
   "execution_count": 98,
   "metadata": {
    "collapsed": true
   },
   "outputs": [],
   "source": [
    "#new_X = X.drop([\"title\", \"director\", \"actor1\", \"actor2\", \"actor3\", \"original_language\", \"id\", \"production_companies\", \"prod_company\", \"production_countries\"], axis=1)\n",
    "#new_X.to_csv(\"C:\\Users\\gilad\\Downloads\\\\finalProject\\X.csv\")\n",
    "#Y.to_csv(\"C:\\Users\\gilad\\Downloads\\\\finalProject\\Y.csv\")"
   ]
  },
  {
   "cell_type": "code",
   "execution_count": 99,
   "metadata": {},
   "outputs": [],
   "source": [
    "X_train, X_test, y_train, y_test = train_test_split(myX, Y, test_size=0.2, random_state=1)"
   ]
  },
  {
   "cell_type": "code",
   "execution_count": 100,
   "metadata": {
    "collapsed": true
   },
   "outputs": [],
   "source": [
    "#from sklearn.utils import check_arrays\n",
    "def mean_absolute_percentage_error(y_true, y_pred): \n",
    "    #y_true, y_pred = check_arrays(y_true, y_pred)\n",
    "\n",
    "    ## Note: does not handle mix 1d representation\n",
    "    #if _is_1d(y_true): \n",
    "    #    y_true, y_pred = _check_1d_array(y_true, y_pred)\n",
    "\n",
    "    return np.mean(np.abs((y_true - y_pred) / y_true)) * 100"
   ]
  },
  {
   "cell_type": "markdown",
   "metadata": {},
   "source": [
    "### Linear Regression"
   ]
  },
  {
   "cell_type": "code",
   "execution_count": 101,
   "metadata": {},
   "outputs": [
    {
     "name": "stdout",
     "output_type": "stream",
     "text": [
      "('Coefficients: \\n', array([[ -2.24329123e+06,   1.36910852e+00,   1.55707602e+05,\n",
      "          1.62555563e+04,   1.75043728e+06,   8.59904468e+04,\n",
      "         -5.04054095e+06,   1.47750103e+07,   1.31996433e+07,\n",
      "          5.19436349e+06,  -2.56996975e+06,   3.14547436e+06,\n",
      "         -7.11442075e+06,   9.15805520e+06,  -4.91553126e+06,\n",
      "         -1.10882076e+07,  -1.61486140e+07,   4.46256778e+06,\n",
      "         -4.99609743e+06,  -8.68447498e+05,   1.15209083e+07,\n",
      "         -2.32115789e+07,   4.47552698e+07,  -8.72975564e+06,\n",
      "          1.34067801e+06,  -2.22177927e+07,  -1.03358035e+07,\n",
      "         -6.26416200e+06,  -3.06483355e+06,  -1.12777837e+07,\n",
      "         -1.91180464e+07,   3.05126854e+06,  -2.47077468e+05,\n",
      "         -7.14551073e+06,  -6.74259836e+06,  -8.16413660e+05,\n",
      "          1.66050233e+06,  -1.94653869e-03,   5.72300189e-01,\n",
      "          1.00646710e+05,   2.70260048e+07,   2.36700771e+07,\n",
      "         -2.44061478e+05,  -1.49287761e+07]]))\n",
      "Mean squared error: 16793316375217622.00\n",
      "Variance score: 0.69\n",
      "Mean absolute error: 64110597.47\n",
      "mean_absolute_percentage_error: 926.01\n"
     ]
    }
   ],
   "source": [
    "regr = linear_model.LinearRegression()\n",
    "#Train the model using the training sets\n",
    "regr.fit(X_train, y_train)\n",
    "\n",
    "# Make predictions using the testing set\n",
    "y_pred = regr.predict(X_test)\n",
    "\n",
    "# The coefficients\n",
    "print('Coefficients: \\n', regr.coef_)\n",
    "# The mean squared error\n",
    "print(\"Mean squared error: %.2f\"\n",
    "      % mean_squared_error(y_test, y_pred))\n",
    "# Explained variance score: 1 is perfect prediction\n",
    "print('Variance score: %.2f' % r2_score(y_test, y_pred))\n",
    "\n",
    "\n",
    "#\n",
    "print(\"Mean absolute error: %.2f\"\n",
    "      % mean_absolute_error(y_test, y_pred))\n",
    "print(\"mean_absolute_percentage_error: %.2f\"\n",
    "      % mean_absolute_percentage_error(y_test, y_pred))\n",
    "\n",
    "# Plot outputs\n",
    "# plt.scatter(X_test, y_test,  color='black')\n",
    "# plt.plot(X_test, y_pred, color='blue', linewidth=3)\n",
    "\n",
    "# plt.xticks(())\n",
    "# plt.yticks(())\n",
    "\n",
    "# plt.show()"
   ]
  },
  {
   "cell_type": "markdown",
   "metadata": {},
   "source": [
    "### PCA"
   ]
  },
  {
   "cell_type": "code",
   "execution_count": 102,
   "metadata": {},
   "outputs": [
    {
     "name": "stdout",
     "output_type": "stream",
     "text": [
      "[  3.69938541e+11   3.46816714e+09   2.09462985e+09   7.15728572e+04\n",
      "   8.38015957e+03]\n",
      "[[ -1.77727166e-10   2.69045346e-03   2.58513258e-10   2.99909125e-10\n",
      "    1.16841955e-11   4.23857966e-08   6.18046124e-12   7.03622281e-12\n",
      "    3.03316563e-12   6.23409417e-12   1.83051450e-12  -2.80762049e-12\n",
      "   -6.77770360e-12   6.44051566e-12   3.59825623e-12  -3.80208671e-13\n",
      "   -3.15036888e-13  -6.31174951e-13   9.02286558e-13   8.88257543e-13\n",
      "    1.40101194e-12   2.56627025e-12  -5.58304688e-14   2.44672180e-12\n",
      "   -2.61395119e-13  -2.06987856e-13   3.91441554e-11  -1.92156751e-12\n",
      "    9.23666060e-12  -3.60758198e-12   9.04541726e-12   8.55265231e-13\n",
      "    6.16035888e-12   1.16341256e-12   5.28994583e-12   1.74076025e-10\n",
      "    4.67076896e-11   9.99978821e-01   5.92609907e-03   3.84130316e-09\n",
      "    6.07115153e-12   2.76466899e-12   5.78938687e-12  -4.37465552e-12]\n",
      " [  2.89483938e-08   9.33287219e-01   1.25106615e-07   7.62054547e-08\n",
      "    2.69661972e-09   1.39335114e-05   2.29215239e-09   2.23282298e-09\n",
      "    7.69101129e-10  -8.79847361e-10   9.70618885e-11  -3.47168060e-10\n",
      "   -9.83785790e-10   8.17986808e-10   9.52090375e-10  -4.97411047e-11\n",
      "    2.40897141e-10  -5.57751226e-10  -9.37460371e-11   7.84410585e-11\n",
      "   -5.06975088e-10   9.03439487e-10  -3.35187193e-13   8.34072259e-10\n",
      "    2.05497747e-10   8.45871294e-11   2.91360813e-09  -3.05079380e-10\n",
      "    1.38632559e-09  -7.46195801e-10   1.45639822e-09   1.74450013e-10\n",
      "    7.02777036e-10   2.07479495e-10   8.32657911e-10   1.44751346e-07\n",
      "    6.42153888e-08  -4.63913150e-03   3.59100885e-01   9.21260501e-07\n",
      "    7.05225472e-10   1.51898506e-10   1.44320948e-09  -3.04021471e-10]\n",
      " [ -2.15226095e-08  -3.59120771e-01  -6.16570259e-08  -1.14618888e-08\n",
      "    1.03976700e-09  -2.29485145e-06  -7.05075050e-10  -9.55048013e-11\n",
      "    1.52372139e-10   1.19045946e-09  -9.66951505e-11  -2.51329661e-10\n",
      "    7.62890361e-11   6.26489595e-10  -2.20669141e-10  -3.13308842e-11\n",
      "   -1.79436962e-10  -2.47964969e-11   9.58817299e-11  -1.15210803e-10\n",
      "    2.91026268e-10  -3.25879405e-10   4.69245286e-12  -1.60058745e-10\n",
      "   -1.22177497e-10   1.23028167e-10   4.26750952e-09   3.40768002e-11\n",
      "    7.71544095e-11   2.68544780e-10   1.45701426e-11   5.29923236e-10\n",
      "   -1.67648754e-10   6.62639422e-11   3.51985274e-10  -1.02806310e-08\n",
      "    2.31127390e-09  -4.56460830e-03   9.33279934e-01  -1.77177705e-07\n",
      "    6.09482746e-10   2.74498866e-10  -3.55522427e-11  -1.40838405e-11]\n",
      " [  2.04021130e-03  -1.38326437e-05   2.61301855e-03   4.86467329e-03\n",
      "    3.41340176e-04   9.99889870e-01  -5.76516164e-06  -1.61464749e-05\n",
      "   -2.50493532e-06  -4.56499904e-05  -6.51034863e-06  -5.14860106e-07\n",
      "   -3.32475774e-05  -1.39813295e-05  -5.85125125e-06  -3.64882614e-07\n",
      "   -6.27244856e-06  -2.23481725e-06  -5.58440628e-06  -5.48301723e-06\n",
      "   -2.05893574e-05   3.82146957e-06  -1.01157073e-07  -2.81268271e-05\n",
      "   -2.76170151e-06  -4.21287163e-06   2.24029974e-05  -3.40353505e-06\n",
      "    1.68231541e-05  -2.51644720e-06   8.39133838e-06  -2.47302588e-06\n",
      "    1.30709311e-05   3.07080224e-06   4.03046624e-06   1.21566153e-02\n",
      "    5.09122337e-03   1.17841672e-08  -2.86297372e-06   3.42940966e-03\n",
      "   -1.70807207e-05  -2.39214277e-06   2.14174511e-05   7.02113287e-05]\n",
      " [ -2.64284197e-03  -8.74995398e-07   1.95399808e-02   2.13236065e-03\n",
      "    5.15484211e-04  -4.16961466e-03  -1.13603700e-04  -1.40443631e-04\n",
      "   -1.12309208e-04   1.28787172e-04   1.34242441e-04  -6.39595687e-05\n",
      "    2.65151796e-04  -1.46603485e-04  -3.23868946e-05  -1.00669284e-05\n",
      "    1.11328411e-05  -2.48617426e-04  -5.07788170e-05   3.84994461e-05\n",
      "    1.47704605e-04  -1.41026504e-04  -1.84341985e-07   1.24607801e-05\n",
      "    3.06778152e-05   1.90509729e-05   4.02111546e-04  -2.24536191e-05\n",
      "    2.11237654e-04  -1.91332182e-04   3.30252770e-04   5.76281768e-05\n",
      "    1.67464509e-04   7.68477221e-05   1.55586439e-04   4.85971873e-02\n",
      "    1.92713582e-02  -3.97478503e-10  -1.55661383e-07   9.98426294e-01\n",
      "   -1.08150252e-04  -4.57837300e-05   9.70192008e-06   3.93972790e-04]]\n"
     ]
    }
   ],
   "source": [
    "pca = PCA(n_components=5)\n",
    "pca.fit(myX)\n",
    "print(pca.singular_values_) \n",
    "print(pca.components_) "
   ]
  },
  {
   "cell_type": "markdown",
   "metadata": {},
   "source": [
    "### standardize "
   ]
  },
  {
   "cell_type": "code",
   "execution_count": 103,
   "metadata": {},
   "outputs": [
    {
     "data": {
      "text/plain": [
       "(5264L, 44L)"
      ]
     },
     "execution_count": 103,
     "metadata": {},
     "output_type": "execute_result"
    }
   ],
   "source": [
    "from sklearn.preprocessing import StandardScaler\n",
    "X_std = StandardScaler().fit_transform(myX)\n",
    "X_std.shape"
   ]
  },
  {
   "cell_type": "code",
   "execution_count": 104,
   "metadata": {},
   "outputs": [
    {
     "name": "stdout",
     "output_type": "stream",
     "text": [
      "[ 145.50673884  120.95996133  109.3329601   104.6206905    99.31898917]\n",
      "[[  2.66099455e-02   3.66081995e-01   2.14926694e-01   2.23747509e-01\n",
      "    1.83634314e-01   3.32173228e-01   1.51225485e-01   1.70620414e-01\n",
      "    7.55148171e-02  -3.42303576e-02   6.58600130e-02  -9.24165391e-02\n",
      "   -5.97165701e-03   8.65750549e-02   9.30873660e-02  -4.38987407e-02\n",
      "    6.00976766e-02  -5.42840725e-02  -1.42335378e-02   3.69178228e-02\n",
      "   -3.28937830e-02   9.19628737e-02  -3.74126799e-03   8.57294520e-02\n",
      "    5.51960073e-02   3.17747904e-02   3.02751976e-01  -9.91452932e-02\n",
      "    1.89320453e-01  -1.19839883e-01   1.88472358e-01   2.73707773e-02\n",
      "    5.88412765e-02   4.79924805e-03   8.35754225e-02   1.99520710e-01\n",
      "    1.93253571e-01   2.43845545e-01   3.16393573e-01   2.31283031e-01\n",
      "    6.57677570e-02   4.10559621e-02   9.32300905e-02   5.16755524e-02]\n",
      " [  5.43225005e-02  -9.85778393e-02   2.68127042e-01   2.21239615e-02\n",
      "    1.96806162e-01   4.24395689e-02  -8.35593532e-02  -2.07515212e-01\n",
      "   -2.70210760e-01  -1.53325351e-01   1.14136852e-01   1.44034344e-02\n",
      "    2.19265977e-01  -3.38740284e-01  -2.05946948e-01   9.06683176e-03\n",
      "    1.10742185e-01  -2.39922836e-02  -3.40168318e-02   8.08997537e-02\n",
      "    2.34865331e-02  -1.25746127e-01   3.22301228e-03   6.25596692e-02\n",
      "    8.22112293e-02   2.69029862e-02  -6.48982797e-02   2.13388075e-02\n",
      "    1.31437821e-02  -2.77578363e-03   1.09729001e-02   2.41133157e-02\n",
      "   -1.56753976e-02  -2.96107163e-02   4.02811733e-02   3.54980006e-01\n",
      "    3.53482801e-01  -1.78136899e-01  -1.90801489e-01   2.97855770e-02\n",
      "   -2.06692225e-01  -1.91919484e-01   4.97536634e-03   2.30485469e-01]\n",
      " [  1.55901291e-01   5.31741675e-02   5.61144823e-02   8.77869140e-02\n",
      "    9.29133759e-02   1.14441165e-01  -1.43529516e-01  -4.14708809e-02\n",
      "    4.62248356e-02   2.15406898e-02  -9.77249478e-02   1.39661183e-02\n",
      "    2.71096337e-02   4.44627369e-02  -1.25095761e-02  -7.50227804e-03\n",
      "   -7.83254622e-03  -6.61898854e-02   1.03440817e-02  -4.48121742e-02\n",
      "    4.58067116e-02  -8.58249594e-02   4.19125536e-04  -1.30296513e-01\n",
      "   -2.64116736e-02   7.22882695e-03   7.16657301e-02   1.51364746e-01\n",
      "   -9.14292315e-02   4.03240705e-01  -3.82858213e-01  -4.06655838e-01\n",
      "    4.05094771e-01   2.90051033e-01  -2.79245275e-01   7.69981439e-02\n",
      "    7.59880195e-02   4.51380030e-02   5.87698891e-02   3.25741104e-02\n",
      "    5.65684854e-02   5.71714285e-02   8.38058288e-02   5.15157474e-03]\n",
      " [ -8.15297305e-02   1.35791619e-02  -1.88260975e-02  -2.63449420e-02\n",
      "   -1.13403412e-01  -5.72814204e-02   3.13735617e-01   7.29562390e-02\n",
      "   -1.27742305e-01  -1.30231169e-01   2.69871125e-01  -5.99703970e-02\n",
      "   -6.37370411e-02  -1.71847043e-01  -5.16171718e-02  -3.24865787e-02\n",
      "   -9.50489724e-03   2.04209480e-01  -1.02509958e-01   2.06833853e-01\n",
      "   -1.85252045e-01   1.42773443e-01   8.41557650e-03   3.89491562e-01\n",
      "    1.80207253e-02   5.07051398e-02  -1.68361856e-02  -1.55633620e-01\n",
      "    1.09870105e-01  -3.73113027e-02   5.71333167e-02  -3.32987790e-01\n",
      "    3.49892661e-01   1.26666667e-01  -1.02619756e-01  -1.96667841e-01\n",
      "   -1.96050671e-01  -3.03380014e-02  -5.03208164e-02  -8.34588238e-03\n",
      "   -1.56954460e-01  -1.06164702e-01  -1.47461012e-02   5.36703702e-02]\n",
      " [  2.14231991e-01   8.47793435e-02  -3.23904242e-02   1.45459533e-01\n",
      "   -6.75882650e-02   1.20830617e-01   3.65074948e-02  -7.40836997e-02\n",
      "   -1.08706506e-01  -1.04776686e-01  -8.62816542e-03  -5.11637517e-03\n",
      "   -1.35698292e-01  -1.65064818e-01  -8.28798085e-02  -9.14772914e-03\n",
      "   -1.09338424e-01   1.28842042e-01  -7.25109302e-02   7.42454238e-02\n",
      "   -8.04557728e-02   3.41037492e-02   2.49989713e-03   9.03436770e-02\n",
      "   -8.51489228e-02  -6.98565489e-02   1.24979866e-01   1.14169025e-01\n",
      "   -1.18884107e-01   3.46672905e-01  -3.37716413e-01   8.35418816e-02\n",
      "   -7.64067619e-02  -4.27323176e-01   4.34653769e-01  -1.35251016e-01\n",
      "   -1.34832954e-01   9.65400218e-02   1.07415971e-01   1.18966182e-02\n",
      "   -7.17366404e-02  -8.48435450e-02   1.54981047e-01   2.73154734e-02]]\n"
     ]
    }
   ],
   "source": [
    "pca = PCA(n_components=5)\n",
    "pca.fit(X_std)\n",
    "print(pca.singular_values_) \n",
    "print(pca.components_) "
   ]
  },
  {
   "cell_type": "code",
   "execution_count": 105,
   "metadata": {
    "collapsed": true
   },
   "outputs": [],
   "source": [
    "# cov = np.cov(X_std)\n",
    "# w, v = LA.eig(cov)"
   ]
  },
  {
   "cell_type": "code",
   "execution_count": 106,
   "metadata": {
    "collapsed": true
   },
   "outputs": [],
   "source": [
    "# print w\n",
    "# print v"
   ]
  },
  {
   "cell_type": "code",
   "execution_count": 107,
   "metadata": {},
   "outputs": [
    {
     "name": "stdout",
     "output_type": "stream",
     "text": [
      "Eigenvectors \n",
      "[[-0.02656582 -0.05329127 -0.15217576 ..., -0.15656222  0.03981832\n",
      "   0.00684063]\n",
      " [-0.36604281  0.09868055 -0.05351724 ..., -0.10219886 -0.08085277\n",
      "   0.06264461]\n",
      " [-0.21494242 -0.26825379 -0.05998664 ...,  0.09222651 -0.38677936\n",
      "  -0.02756769]\n",
      " ..., \n",
      " [-0.04097218  0.19282858 -0.05845826 ..., -0.00708917 -0.06088899\n",
      "  -0.12340018]\n",
      " [-0.09306374 -0.0026673  -0.08042828 ...,  0.19258715  0.07580889\n",
      "   0.02490819]\n",
      " [-0.05162812 -0.22931602 -0.00402238 ...,  0.0582961  -0.04067751\n",
      "   0.04123206]]\n",
      "\n",
      "Eigenvalues \n",
      "[ 4.02208087  2.77975514  2.27285941  2.08047669  1.88073392  1.74902995\n",
      "  1.73165732  1.52426365  1.51233498  0.02287098  1.36027397  0.08898675\n",
      "  0.11015223  0.1991356   1.25773046  1.2147419   1.19273912  0.26244408\n",
      "  0.29677363  1.11376095  1.07571467  0.39493118  1.02767171  1.01239798\n",
      "  0.98146879  0.97674733  0.94198809  0.43483942  0.44199541  0.47703459\n",
      "  0.48612987  0.51449886  0.5290731   0.87935311  0.86962675  0.8424433\n",
      "  0.80079634  0.57937536  0.59786306  0.63414809  0.74401397  0.71781488\n",
      "  0.69780696  0.66946559]\n"
     ]
    }
   ],
   "source": [
    "cor_mat1 = np.corrcoef(X_std.T)\n",
    "\n",
    "eig_vals, eig_vecs = np.linalg.eig(cor_mat1)\n",
    "\n",
    "print('Eigenvectors \\n%s' %eig_vecs)\n",
    "print('\\nEigenvalues \\n%s' %eig_vals)"
   ]
  },
  {
   "cell_type": "code",
   "execution_count": 108,
   "metadata": {},
   "outputs": [
    {
     "name": "stdout",
     "output_type": "stream",
     "text": [
      "Eigenvalues in descending order:\n",
      "4.02208087495\n",
      "2.77975513808\n",
      "2.27285941351\n",
      "2.08047669028\n",
      "1.88073391975\n",
      "1.74902995295\n",
      "1.73165731748\n",
      "1.52426364989\n",
      "1.5123349827\n",
      "1.36027397104\n",
      "1.25773046394\n",
      "1.21474189716\n",
      "1.19273912479\n",
      "1.11376094522\n",
      "1.07571467043\n",
      "1.02767170951\n",
      "1.01239798148\n",
      "0.981468788775\n",
      "0.976747330202\n",
      "0.94198808607\n",
      "0.879353111788\n",
      "0.869626748494\n",
      "0.842443296529\n",
      "0.800796336618\n",
      "0.744013965302\n",
      "0.717814880936\n",
      "0.697806961292\n",
      "0.669465593447\n",
      "0.634148085467\n",
      "0.597863062371\n",
      "0.579375361405\n",
      "0.529073095605\n",
      "0.514498861497\n",
      "0.486129870842\n",
      "0.477034589112\n",
      "0.44199540637\n",
      "0.434839418373\n",
      "0.394931177966\n",
      "0.29677362765\n",
      "0.262444082494\n",
      "0.199135595607\n",
      "0.110152233067\n",
      "0.0889867539003\n",
      "0.0228709756517\n"
     ]
    }
   ],
   "source": [
    "# Make a list of (eigenvalue, eigenvector) tuples\n",
    "eig_pairs = [(np.abs(eig_vals[i]), eig_vecs[:,i]) for i in range(len(eig_vals))]\n",
    "\n",
    "# Sort the (eigenvalue, eigenvector) tuples from high to low\n",
    "eig_pairs.sort()\n",
    "eig_pairs.reverse()\n",
    "\n",
    "# Visually confirm that the list is correctly sorted by decreasing eigenvalues\n",
    "print('Eigenvalues in descending order:')\n",
    "for i in eig_pairs:\n",
    "    print(i[0])"
   ]
  },
  {
   "cell_type": "code",
   "execution_count": 109,
   "metadata": {},
   "outputs": [
    {
     "name": "stdout",
     "output_type": "stream",
     "text": [
      " the indices of the highest eignevalues are:\n"
     ]
    },
    {
     "data": {
      "text/plain": [
       "array([0, 1, 2, 3, 4, 5, 6], dtype=int64)"
      ]
     },
     "execution_count": 109,
     "metadata": {},
     "output_type": "execute_result"
    }
   ],
   "source": [
    "print \" the indices of the highest eignevalues are:\"\n",
    "top20comp = eig_vals.argsort()[-20:][::-1]\n",
    "top20comp\n",
    "\n",
    "top7comp = eig_vals.argsort()[-7:][::-1]\n",
    "top7comp"
   ]
  },
  {
   "cell_type": "code",
   "execution_count": 111,
   "metadata": {},
   "outputs": [
    {
     "name": "stdout",
     "output_type": "stream",
     "text": [
      "the top 7 principal components are: \n"
     ]
    },
    {
     "data": {
      "text/html": [
       "<div>\n",
       "<style scoped>\n",
       "    .dataframe tbody tr th:only-of-type {\n",
       "        vertical-align: middle;\n",
       "    }\n",
       "\n",
       "    .dataframe tbody tr th {\n",
       "        vertical-align: top;\n",
       "    }\n",
       "\n",
       "    .dataframe thead th {\n",
       "        text-align: right;\n",
       "    }\n",
       "</style>\n",
       "<table border=\"1\" class=\"dataframe\">\n",
       "  <thead>\n",
       "    <tr style=\"text-align: right;\">\n",
       "      <th></th>\n",
       "      <th>year</th>\n",
       "      <th>adjusted_budget</th>\n",
       "      <th>runtime</th>\n",
       "      <th>popularity</th>\n",
       "      <th>vote_average</th>\n",
       "      <th>vote_count</th>\n",
       "      <th>genre_Action</th>\n",
       "    </tr>\n",
       "    <tr>\n",
       "      <th>month</th>\n",
       "      <th></th>\n",
       "      <th></th>\n",
       "      <th></th>\n",
       "      <th></th>\n",
       "      <th></th>\n",
       "      <th></th>\n",
       "      <th></th>\n",
       "    </tr>\n",
       "  </thead>\n",
       "  <tbody>\n",
       "  </tbody>\n",
       "</table>\n",
       "</div>"
      ],
      "text/plain": [
       "Empty DataFrame\n",
       "Columns: [year, adjusted_budget, runtime, popularity, vote_average, vote_count, genre_Action]\n",
       "Index: []"
      ]
     },
     "execution_count": 111,
     "metadata": {},
     "output_type": "execute_result"
    }
   ],
   "source": [
    "print \"the top 7 principal components are: \"\n",
    "myX.iloc[:0,top7comp]"
   ]
  },
  {
   "cell_type": "markdown",
   "metadata": {},
   "source": [
    "### XGBOOST"
   ]
  },
  {
   "cell_type": "code",
   "execution_count": 112,
   "metadata": {
    "collapsed": true
   },
   "outputs": [],
   "source": [
    "xgb = xgboost.XGBRegressor(n_estimators=100, learning_rate=0.08, gamma=0, subsample=0.75, colsample_bytree=1, max_depth=7)\n",
    "xgb.fit(X_train, y_train)\n",
    "\n",
    "# Make predictions using the testing set\n",
    "y_pred = xgb.predict(X_test)"
   ]
  },
  {
   "cell_type": "code",
   "execution_count": 113,
   "metadata": {},
   "outputs": [
    {
     "name": "stdout",
     "output_type": "stream",
     "text": [
      "('Coefficients: \\n', array([[ -2.24329123e+06,   1.36910852e+00,   1.55707602e+05,\n",
      "          1.62555563e+04,   1.75043728e+06,   8.59904468e+04,\n",
      "         -5.04054095e+06,   1.47750103e+07,   1.31996433e+07,\n",
      "          5.19436349e+06,  -2.56996975e+06,   3.14547436e+06,\n",
      "         -7.11442075e+06,   9.15805520e+06,  -4.91553126e+06,\n",
      "         -1.10882076e+07,  -1.61486140e+07,   4.46256778e+06,\n",
      "         -4.99609743e+06,  -8.68447498e+05,   1.15209083e+07,\n",
      "         -2.32115789e+07,   4.47552698e+07,  -8.72975564e+06,\n",
      "          1.34067801e+06,  -2.22177927e+07,  -1.03358035e+07,\n",
      "         -6.26416200e+06,  -3.06483355e+06,  -1.12777837e+07,\n",
      "         -1.91180464e+07,   3.05126854e+06,  -2.47077468e+05,\n",
      "         -7.14551073e+06,  -6.74259836e+06,  -8.16413660e+05,\n",
      "          1.66050233e+06,  -1.94653869e-03,   5.72300189e-01,\n",
      "          1.00646710e+05,   2.70260048e+07,   2.36700771e+07,\n",
      "         -2.44061478e+05,  -1.49287761e+07]]))\n",
      "Mean squared error: 15357856885733406.00\n",
      "Variance score: 0.72\n",
      "Mean absolute error: 51719685.38\n",
      "(1053, 1)\n",
      "(1053L,)\n",
      "mean_absolute_percentage_error: 374.12\n"
     ]
    }
   ],
   "source": [
    "# The coefficients\n",
    "print('Coefficients: \\n', regr.coef_)\n",
    "# The mean squared error\n",
    "print(\"Mean squared error: %.2f\"\n",
    "      % mean_squared_error(y_test, y_pred))\n",
    "# Explained variance score: 1 is perfect prediction\n",
    "print('Variance score: %.2f' % r2_score(y_test, y_pred))\n",
    "\n",
    "print(\"Mean absolute error: %.2f\"\n",
    "      % mean_absolute_error(y_test, y_pred))\n",
    "\n",
    "print y_test.shape\n",
    "print y_pred.shape\n",
    "print(\"mean_absolute_percentage_error: %.2f\"\n",
    "      % mean_absolute_percentage_error(np.ravel(y_test), np.ravel(y_pred)))"
   ]
  },
  {
   "cell_type": "markdown",
   "metadata": {},
   "source": [
    "### xgboost with the standardized data"
   ]
  },
  {
   "cell_type": "code",
   "execution_count": 114,
   "metadata": {
    "collapsed": true
   },
   "outputs": [],
   "source": [
    "# xgb2 = xgboost.XGBRegressor(n_estimators=100, learning_rate=0.08, gamma=0, subsample=0.75, colsample_bytree=1, max_depth=7)\n",
    "# xgb2.fit(X_std, y_train)\n",
    "\n",
    "# # Make predictions using the testing set\n",
    "# y_pred = xgb2.predict(X_test)"
   ]
  },
  {
   "cell_type": "code",
   "execution_count": 115,
   "metadata": {
    "collapsed": true
   },
   "outputs": [],
   "source": [
    "# # The coefficients\n",
    "# print('Coefficients: \\n', regr.coef_)\n",
    "# # The mean squared error\n",
    "# print(\"Mean squared error: %.2f\"\n",
    "#       % mean_squared_error(y_test, y_pred))\n",
    "# # Explained variance score: 1 is perfect prediction\n",
    "# print('Variance score: %.2f' % r2_score(y_test, y_pred))\n",
    "\n",
    "# print(\"Mean absolute error: %.2f\"\n",
    "#       % mean_absolute_error(y_test, y_pred))\n",
    "\n",
    "# print y_test.shape\n",
    "# print y_pred.shape\n",
    "# print(\"mean_absolute_percentage_error: %.2f\"\n",
    "#       % mean_absolute_percentage_error(np.ravel(y_test), np.ravel(y_pred)))"
   ]
  },
  {
   "cell_type": "markdown",
   "metadata": {},
   "source": [
    "### The bootstrap"
   ]
  },
  {
   "cell_type": "code",
   "execution_count": null,
   "metadata": {
    "collapsed": true
   },
   "outputs": [],
   "source": []
  },
  {
   "cell_type": "markdown",
   "metadata": {},
   "source": [
    "### Ridge regression"
   ]
  },
  {
   "cell_type": "code",
   "execution_count": 116,
   "metadata": {
    "collapsed": true
   },
   "outputs": [],
   "source": [
    "from sklearn.linear_model import Ridge\n",
    "clf = Ridge(alpha=1.0)\n",
    "clf.fit(X_train, y_train) \n",
    "y_test = clf.predict(X_test)"
   ]
  },
  {
   "cell_type": "code",
   "execution_count": 117,
   "metadata": {},
   "outputs": [
    {
     "name": "stdout",
     "output_type": "stream",
     "text": [
      "('Coefficients: \\n', array([[ -2.24329123e+06,   1.36910852e+00,   1.55707602e+05,\n",
      "          1.62555563e+04,   1.75043728e+06,   8.59904468e+04,\n",
      "         -5.04054095e+06,   1.47750103e+07,   1.31996433e+07,\n",
      "          5.19436349e+06,  -2.56996975e+06,   3.14547436e+06,\n",
      "         -7.11442075e+06,   9.15805520e+06,  -4.91553126e+06,\n",
      "         -1.10882076e+07,  -1.61486140e+07,   4.46256778e+06,\n",
      "         -4.99609743e+06,  -8.68447498e+05,   1.15209083e+07,\n",
      "         -2.32115789e+07,   4.47552698e+07,  -8.72975564e+06,\n",
      "          1.34067801e+06,  -2.22177927e+07,  -1.03358035e+07,\n",
      "         -6.26416200e+06,  -3.06483355e+06,  -1.12777837e+07,\n",
      "         -1.91180464e+07,   3.05126854e+06,  -2.47077468e+05,\n",
      "         -7.14551073e+06,  -6.74259836e+06,  -8.16413660e+05,\n",
      "          1.66050233e+06,  -1.94653869e-03,   5.72300189e-01,\n",
      "          1.00646710e+05,   2.70260048e+07,   2.36700771e+07,\n",
      "         -2.44061478e+05,  -1.49287761e+07]]))\n",
      "Mean squared error: 4504847903529846.00\n",
      "Variance score: 0.85\n",
      "Mean absolute error: 39533256.03\n",
      "(1053L, 1L)\n",
      "(1053L,)\n",
      "mean_absolute_percentage_error: 130.31\n"
     ]
    }
   ],
   "source": [
    "# The coefficients\n",
    "print('Coefficients: \\n', regr.coef_)\n",
    "# The mean squared error\n",
    "print(\"Mean squared error: %.2f\"\n",
    "      % mean_squared_error(y_test, y_pred))\n",
    "# Explained variance score: 1 is perfect prediction\n",
    "print('Variance score: %.2f' % r2_score(y_test, y_pred))\n",
    "\n",
    "print(\"Mean absolute error: %.2f\"\n",
    "      % mean_absolute_error(y_test, y_pred))\n",
    "\n",
    "print y_test.shape\n",
    "print y_pred.shape\n",
    "print(\"mean_absolute_percentage_error: %.2f\"\n",
    "      % mean_absolute_percentage_error(np.ravel(y_test), np.ravel(y_pred)))"
   ]
  },
  {
   "cell_type": "code",
   "execution_count": 120,
   "metadata": {},
   "outputs": [
    {
     "name": "stdout",
     "output_type": "stream",
     "text": [
      "alpha is 0.01\n",
      "Mean squared error: 4506057826003741.00\n",
      "Variance score: 0.85\n",
      "Mean absolute error: 39546795.38\n",
      "mean_absolute_percentage_error: 123.28\n",
      "alpha is 0.1\n",
      "Mean squared error: 4505933862634552.00\n",
      "Variance score: 0.85\n",
      "Mean absolute error: 39545409.39\n",
      "mean_absolute_percentage_error: 123.31\n",
      "alpha is 0.5\n",
      "Mean squared error: 4505421252732785.00\n",
      "Variance score: 0.85\n",
      "Mean absolute error: 39539681.21\n",
      "mean_absolute_percentage_error: 124.36\n",
      "alpha is 1\n",
      "Mean squared error: 4504847903529846.00\n",
      "Variance score: 0.85\n",
      "Mean absolute error: 39533256.03\n",
      "mean_absolute_percentage_error: 130.31\n",
      "alpha is 3\n",
      "Mean squared error: 4502966726854106.50\n",
      "Variance score: 0.85\n",
      "Mean absolute error: 39511248.19\n",
      "mean_absolute_percentage_error: 811.26\n",
      "alpha is 5\n",
      "Mean squared error: 4501414907299736.00\n",
      "Variance score: 0.85\n",
      "Mean absolute error: 39492115.54\n",
      "mean_absolute_percentage_error: 122.10\n",
      "alpha is 10\n",
      "Mean squared error: 4498138445902767.50\n",
      "Variance score: 0.85\n",
      "Mean absolute error: 39450660.24\n",
      "mean_absolute_percentage_error: 120.41\n",
      "alpha is 20\n",
      "Mean squared error: 4492704399407303.50\n",
      "Variance score: 0.85\n",
      "Mean absolute error: 39386848.28\n",
      "mean_absolute_percentage_error: 147.27\n",
      "alpha is 30\n",
      "Mean squared error: 4488018585522656.50\n",
      "Variance score: 0.85\n",
      "Mean absolute error: 39340084.90\n",
      "mean_absolute_percentage_error: 113.15\n",
      "alpha is 40\n",
      "Mean squared error: 4483810352494275.00\n",
      "Variance score: 0.85\n",
      "Mean absolute error: 39299699.29\n",
      "mean_absolute_percentage_error: 134.26\n",
      "alpha is 50\n",
      "Mean squared error: 4479968261431578.00\n",
      "Variance score: 0.85\n",
      "Mean absolute error: 39266473.64\n",
      "mean_absolute_percentage_error: 247.66\n"
     ]
    }
   ],
   "source": [
    "alphToMAPE = {}\n",
    "for alpha in [.01,.1,.5,1,3,5,10,20,30,40,50]:\n",
    "    print \"alpha is \" + str(alpha)\n",
    "    clf = Ridge(alpha=alpha)\n",
    "    clf.fit(X_train, y_train) \n",
    "    y_test = clf.predict(X_test)\n",
    "    # The coefficients\n",
    "    #print('Coefficients: \\n', regr.coef_)\n",
    "    # The mean squared error\n",
    "    print(\"Mean squared error: %.2f\"\n",
    "          % mean_squared_error(y_test, y_pred))\n",
    "    # Explained variance score: 1 is perfect prediction\n",
    "    print('Variance score: %.2f' % r2_score(y_test, y_pred))\n",
    "\n",
    "    print(\"Mean absolute error: %.2f\"\n",
    "          % mean_absolute_error(y_test, y_pred))\n",
    "\n",
    "    print(\"mean_absolute_percentage_error: %.2f\"\n",
    "          % mean_absolute_percentage_error(np.ravel(y_test), np.ravel(y_pred)))\n",
    "    alphToMAPE[alpha] = mean_absolute_percentage_error(y_test, y_pred)"
   ]
  },
  {
   "cell_type": "code",
   "execution_count": 121,
   "metadata": {},
   "outputs": [
    {
     "data": {
      "image/png": "[encoded data removed]",
      "text/plain": [
       "<matplotlib.figure.Figure at 0x1578c048>"
      ]
     },
     "metadata": {},
     "output_type": "display_data"
    },
    {
     "name": "stdout",
     "output_type": "stream",
     "text": [
      "{0.5: 842.62124574137124, 1: 893.02267456431036, 3: 2362.4594907222117, 5: 801.01259748867938, 0.1: 833.13936021502377, 40: 960.69339688758964, 10: 884.66076356622773, 50: 2474.5212104957113, 20: 1263.7415048796859, 30: 809.45297968709815, 0.01: 832.02401101109876}\n"
     ]
    }
   ],
   "source": [
    "lists = sorted(alphToMAPE.items()) # sorted by key, return a list of tuples\n",
    "\n",
    "x, y = zip(*lists) # unpack a list of pairs into two tuples\n",
    "\n",
    "plt.plot(x, y)\n",
    "plt.show()\n",
    "print alphToMAPE"
   ]
  },
  {
   "cell_type": "markdown",
   "metadata": {},
   "source": [
    "#### After getting good results for ridge with alpha of 1 (222 percent MAPE), we decided to go ahead and explore different values of alphas to find the optimal one. Alpha of 30 seems to be the best with MAPE value of 113.5%. We are aware of a common effect of large alphas to cause overfitting, however we are working with a validation set so we believe that it is not an issue in this case."
   ]
  },
  {
   "cell_type": "code",
   "execution_count": 122,
   "metadata": {},
   "outputs": [],
   "source": [
    "from sklearn.linear_model import RidgeCV\n",
    "\n",
    "clf = RidgeCV(alphas=[1,2,3,20,25,30], cv=50)\n",
    "clf.fit(X_train, y_train) \n",
    "y_test = clf.predict(X_test)"
   ]
  },
  {
   "cell_type": "code",
   "execution_count": 123,
   "metadata": {},
   "outputs": [
    {
     "name": "stdout",
     "output_type": "stream",
     "text": [
      "Mean squared error: 4488018585522656.50\n",
      "Variance score: 0.85\n",
      "Mean absolute error: 39340084.90\n",
      "(1053L, 1L)\n",
      "(1053L,)\n",
      "mean_absolute_percentage_error: 113.15\n"
     ]
    }
   ],
   "source": [
    "# The coefficients\n",
    "#print('Coefficients: \\n', regr.coef_)\n",
    "# The mean squared error\n",
    "print(\"Mean squared error: %.2f\"\n",
    "      % mean_squared_error(y_test, y_pred))\n",
    "# Explained variance score: 1 is perfect prediction\n",
    "print('Variance score: %.2f' % r2_score(y_test, y_pred))\n",
    "\n",
    "print(\"Mean absolute error: %.2f\"\n",
    "      % mean_absolute_error(y_test, y_pred))\n",
    "\n",
    "print y_test.shape\n",
    "print y_pred.shape\n",
    "print(\"mean_absolute_percentage_error: %.2f\"\n",
    "      % mean_absolute_percentage_error(np.ravel(y_test), np.ravel(y_pred)))"
   ]
  },
  {
   "cell_type": "markdown",
   "metadata": {},
   "source": [
    "#### Using ridgeCV, and experimenting with various cv and alphas values, we get the same MAPE value of 113.15. "
   ]
  },
  {
   "cell_type": "markdown",
   "metadata": {},
   "source": [
    "### Lasso regression"
   ]
  },
  {
   "cell_type": "code",
   "execution_count": 133,
   "metadata": {},
   "outputs": [],
   "source": [
    "from sklearn import linear_model\n",
    "clf = linear_model.Lasso(alpha=0.01, max_iter=50)\n",
    "clf.fit(X_train, y_train) \n",
    "y_test = clf.predict(X_test)"
   ]
  },
  {
   "cell_type": "code",
   "execution_count": 134,
   "metadata": {},
   "outputs": [
    {
     "name": "stdout",
     "output_type": "stream",
     "text": [
      "Mean squared error: 4496101107853912.00\n",
      "Variance score: 0.85\n",
      "Mean absolute error: 39440609.83\n",
      "(1053L,)\n",
      "(1053L,)\n",
      "mean_absolute_percentage_error: 120.38\n"
     ]
    }
   ],
   "source": [
    "# The coefficients\n",
    "#print('Coefficients: \\n', regr.coef_)\n",
    "# The mean squared error\n",
    "print(\"Mean squared error: %.2f\"\n",
    "      % mean_squared_error(y_test, y_pred))\n",
    "# Explained variance score: 1 is perfect prediction\n",
    "print('Variance score: %.2f' % r2_score(y_test, y_pred))\n",
    "\n",
    "print(\"Mean absolute error: %.2f\"\n",
    "      % mean_absolute_error(y_test, y_pred))\n",
    "\n",
    "print y_test.shape\n",
    "print y_pred.shape\n",
    "print(\"mean_absolute_percentage_error: %.2f\"\n",
    "      % mean_absolute_percentage_error(np.ravel(y_test), np.ravel(y_pred)))"
   ]
  },
  {
   "cell_type": "markdown",
   "metadata": {},
   "source": [
    "### We have experimented with various Lasso regression parameters. The best we get is a MAPE score of 123.28%. Also, we've discovered that increasing the max_iter value produces a slightly better value (3%)"
   ]
  },
  {
   "cell_type": "markdown",
   "metadata": {},
   "source": [
    "### Grid search CV"
   ]
  },
  {
   "cell_type": "code",
   "execution_count": 156,
   "metadata": {},
   "outputs": [
    {
     "name": "stdout",
     "output_type": "stream",
     "text": [
      "r2 / variance :  0.67927524567\n"
     ]
    }
   ],
   "source": [
    "from sklearn import svm, datasets\n",
    "from sklearn.model_selection import GridSearchCV\n",
    "model = linear_model.LinearRegression()\n",
    "parameters = {'copy_X':[True, False]}\n",
    "grid = GridSearchCV(model,parameters, cv=None)\n",
    "grid.fit(X_train, y_train)\n",
    "print \"r2 / variance : \", grid.best_score_"
   ]
  },
  {
   "cell_type": "code",
   "execution_count": 157,
   "metadata": {},
   "outputs": [
    {
     "name": "stdout",
     "output_type": "stream",
     "text": [
      "Mean squared error: 4506072316470216.00\n",
      "Variance score: 0.85\n",
      "Mean absolute error: 39546951.51\n",
      "(1053L, 1L)\n",
      "(1053L,)\n",
      "mean_absolute_percentage_error: 123.28\n"
     ]
    }
   ],
   "source": [
    "y_test = grid.predict(X_test)\n",
    "\n",
    "# The coefficients\n",
    "#print('Coefficients: \\n', regr.coef_)\n",
    "# The mean squared error\n",
    "print(\"Mean squared error: %.2f\"\n",
    "      % mean_squared_error(y_test, y_pred))\n",
    "# Explained variance score: 1 is perfect prediction\n",
    "print('Variance score: %.2f' % r2_score(y_test, y_pred))\n",
    "\n",
    "print(\"Mean absolute error: %.2f\"\n",
    "      % mean_absolute_error(y_test, y_pred))\n",
    "\n",
    "print y_test.shape\n",
    "print y_pred.shape\n",
    "print(\"mean_absolute_percentage_error: %.2f\"\n",
    "      % mean_absolute_percentage_error(np.ravel(y_test), np.ravel(y_pred)))\n"
   ]
  },
  {
   "cell_type": "markdown",
   "metadata": {},
   "source": [
    "### Above you can see the results for a cross validated grid-search. We got 123.28% of MAPE, which worse thatn our best model so far."
   ]
  }
 ],
 "metadata": {
  "kernelspec": {
   "display_name": "Python 2",
   "language": "python",
   "name": "python2"
  },
  "language_info": {
   "codemirror_mode": {
    "name": "ipython",
    "version": 2
   },
   "file_extension": ".py",
   "mimetype": "text/x-python",
   "name": "python",
   "nbconvert_exporter": "python",
   "pygments_lexer": "ipython2",
   "version": "2.7.14"
  }
 },
 "nbformat": 4,
 "nbformat_minor": 2
}
