{
 "cells": [
  {
   "cell_type": "code",
   "execution_count": 1,
   "metadata": {
    "collapsed": true
   },
   "outputs": [],
   "source": [
    "import csv\n",
    "import pandas as pd\n",
    "from pandas import *\n",
    "import numpy as np\n",
    "import matplotlib.pyplot as plt\n",
    "from mpl_toolkits.mplot3d import Axes3D\n",
    "import math\n",
    "import seaborn as sns\n",
    "import collections\n",
    "from sklearn.decomposition import PCA\n",
    "from sklearn.metrics import mean_absolute_error\n",
    "from sklearn.model_selection import train_test_split\n",
    "from sklearn.metrics import mean_squared_error\n",
    "import xgboost\n",
    "from numpy import linalg as LA\n",
    "import matplotlib.pyplot as plt\n",
    "import numpy as np\n",
    "from sklearn import datasets, linear_model\n",
    "from sklearn.metrics import mean_squared_error, r2_score"
   ]
  },
  {
   "cell_type": "code",
   "execution_count": 29,
   "metadata": {},
   "outputs": [
    {
     "data": {
      "text/html": [
       "<div>\n",
       "<style scoped>\n",
       "    .dataframe tbody tr th:only-of-type {\n",
       "        vertical-align: middle;\n",
       "    }\n",
       "\n",
       "    .dataframe tbody tr th {\n",
       "        vertical-align: top;\n",
       "    }\n",
       "\n",
       "    .dataframe thead th {\n",
       "        text-align: right;\n",
       "    }\n",
       "</style>\n",
       "<table border=\"1\" class=\"dataframe\">\n",
       "  <thead>\n",
       "    <tr style=\"text-align: right;\">\n",
       "      <th></th>\n",
       "      <th>month</th>\n",
       "      <th>year</th>\n",
       "      <th>adjusted_budget</th>\n",
       "      <th>runtime</th>\n",
       "      <th>popularity</th>\n",
       "      <th>vote_average</th>\n",
       "      <th>vote_count</th>\n",
       "      <th>adjusted_revenue</th>\n",
       "      <th>genre_Action</th>\n",
       "      <th>genre_Adventure</th>\n",
       "      <th>...</th>\n",
       "      <th>actor2_gender_1.0</th>\n",
       "      <th>actor2_gender_2.0</th>\n",
       "      <th>actor3_gender_1.0</th>\n",
       "      <th>actor3_gender_2.0</th>\n",
       "      <th>director_noms</th>\n",
       "      <th>director_wins</th>\n",
       "      <th>prev_yr_gross_per_movie</th>\n",
       "      <th>prod_company_dom_box_office</th>\n",
       "      <th>prod_company_dom_box_office_per_movie</th>\n",
       "      <th>star_power</th>\n",
       "    </tr>\n",
       "  </thead>\n",
       "  <tbody>\n",
       "    <tr>\n",
       "      <th>0</th>\n",
       "      <td>10</td>\n",
       "      <td>1995</td>\n",
       "      <td>4.825716e+07</td>\n",
       "      <td>81.0</td>\n",
       "      <td>21.946943</td>\n",
       "      <td>7.7</td>\n",
       "      <td>5415.0</td>\n",
       "      <td>6.008886e+08</td>\n",
       "      <td>0.0</td>\n",
       "      <td>0.0</td>\n",
       "      <td>...</td>\n",
       "      <td>0</td>\n",
       "      <td>1</td>\n",
       "      <td>0</td>\n",
       "      <td>1</td>\n",
       "      <td>65</td>\n",
       "      <td>36</td>\n",
       "      <td>1.191214e+07</td>\n",
       "      <td>4939873843</td>\n",
       "      <td>235232087</td>\n",
       "      <td>472</td>\n",
       "    </tr>\n",
       "    <tr>\n",
       "      <th>1</th>\n",
       "      <td>12</td>\n",
       "      <td>1995</td>\n",
       "      <td>1.045572e+08</td>\n",
       "      <td>104.0</td>\n",
       "      <td>17.015539</td>\n",
       "      <td>6.9</td>\n",
       "      <td>2413.0</td>\n",
       "      <td>4.227283e+08</td>\n",
       "      <td>0.0</td>\n",
       "      <td>1.0</td>\n",
       "      <td>...</td>\n",
       "      <td>0</td>\n",
       "      <td>1</td>\n",
       "      <td>1</td>\n",
       "      <td>0</td>\n",
       "      <td>8</td>\n",
       "      <td>2</td>\n",
       "      <td>1.191214e+07</td>\n",
       "      <td>1643337362</td>\n",
       "      <td>45648260</td>\n",
       "      <td>142</td>\n",
       "    </tr>\n",
       "    <tr>\n",
       "      <th>2</th>\n",
       "      <td>12</td>\n",
       "      <td>1995</td>\n",
       "      <td>2.573715e+07</td>\n",
       "      <td>127.0</td>\n",
       "      <td>3.859495</td>\n",
       "      <td>6.1</td>\n",
       "      <td>34.0</td>\n",
       "      <td>1.310217e+08</td>\n",
       "      <td>0.0</td>\n",
       "      <td>0.0</td>\n",
       "      <td>...</td>\n",
       "      <td>1</td>\n",
       "      <td>0</td>\n",
       "      <td>1</td>\n",
       "      <td>0</td>\n",
       "      <td>101</td>\n",
       "      <td>56</td>\n",
       "      <td>1.191214e+07</td>\n",
       "      <td>1593531455</td>\n",
       "      <td>54949360</td>\n",
       "      <td>94</td>\n",
       "    </tr>\n",
       "    <tr>\n",
       "      <th>3</th>\n",
       "      <td>2</td>\n",
       "      <td>1995</td>\n",
       "      <td>0.000000e+00</td>\n",
       "      <td>106.0</td>\n",
       "      <td>8.387519000000001</td>\n",
       "      <td>5.7</td>\n",
       "      <td>173.0</td>\n",
       "      <td>1.231827e+08</td>\n",
       "      <td>0.0</td>\n",
       "      <td>0.0</td>\n",
       "      <td>...</td>\n",
       "      <td>1</td>\n",
       "      <td>0</td>\n",
       "      <td>0</td>\n",
       "      <td>1</td>\n",
       "      <td>5</td>\n",
       "      <td>2</td>\n",
       "      <td>1.191214e+07</td>\n",
       "      <td>0</td>\n",
       "      <td>0</td>\n",
       "      <td>125</td>\n",
       "    </tr>\n",
       "    <tr>\n",
       "      <th>4</th>\n",
       "      <td>12</td>\n",
       "      <td>1995</td>\n",
       "      <td>9.651433e+07</td>\n",
       "      <td>170.0</td>\n",
       "      <td>17.924927</td>\n",
       "      <td>7.7</td>\n",
       "      <td>1886.0</td>\n",
       "      <td>3.015056e+08</td>\n",
       "      <td>1.0</td>\n",
       "      <td>0.0</td>\n",
       "      <td>...</td>\n",
       "      <td>0</td>\n",
       "      <td>1</td>\n",
       "      <td>0</td>\n",
       "      <td>1</td>\n",
       "      <td>46</td>\n",
       "      <td>17</td>\n",
       "      <td>1.191214e+07</td>\n",
       "      <td>5264430500</td>\n",
       "      <td>39286794</td>\n",
       "      <td>152</td>\n",
       "    </tr>\n",
       "  </tbody>\n",
       "</table>\n",
       "<p>5 rows × 43 columns</p>\n",
       "</div>"
      ],
      "text/plain": [
       "   month  year  adjusted_budget  runtime         popularity  vote_average  \\\n",
       "0     10  1995     4.825716e+07     81.0          21.946943           7.7   \n",
       "1     12  1995     1.045572e+08    104.0          17.015539           6.9   \n",
       "2     12  1995     2.573715e+07    127.0           3.859495           6.1   \n",
       "3      2  1995     0.000000e+00    106.0  8.387519000000001           5.7   \n",
       "4     12  1995     9.651433e+07    170.0          17.924927           7.7   \n",
       "\n",
       "   vote_count  adjusted_revenue  genre_Action  genre_Adventure     ...      \\\n",
       "0      5415.0      6.008886e+08           0.0              0.0     ...       \n",
       "1      2413.0      4.227283e+08           0.0              1.0     ...       \n",
       "2        34.0      1.310217e+08           0.0              0.0     ...       \n",
       "3       173.0      1.231827e+08           0.0              0.0     ...       \n",
       "4      1886.0      3.015056e+08           1.0              0.0     ...       \n",
       "\n",
       "   actor2_gender_1.0  actor2_gender_2.0  actor3_gender_1.0  actor3_gender_2.0  \\\n",
       "0                  0                  1                  0                  1   \n",
       "1                  0                  1                  1                  0   \n",
       "2                  1                  0                  1                  0   \n",
       "3                  1                  0                  0                  1   \n",
       "4                  0                  1                  0                  1   \n",
       "\n",
       "   director_noms  director_wins  prev_yr_gross_per_movie  \\\n",
       "0             65             36             1.191214e+07   \n",
       "1              8              2             1.191214e+07   \n",
       "2            101             56             1.191214e+07   \n",
       "3              5              2             1.191214e+07   \n",
       "4             46             17             1.191214e+07   \n",
       "\n",
       "   prod_company_dom_box_office  prod_company_dom_box_office_per_movie  \\\n",
       "0                   4939873843                              235232087   \n",
       "1                   1643337362                               45648260   \n",
       "2                   1593531455                               54949360   \n",
       "3                            0                                      0   \n",
       "4                   5264430500                               39286794   \n",
       "\n",
       "   star_power  \n",
       "0         472  \n",
       "1         142  \n",
       "2          94  \n",
       "3         125  \n",
       "4         152  \n",
       "\n",
       "[5 rows x 43 columns]"
      ]
     },
     "execution_count": 29,
     "metadata": {},
     "output_type": "execute_result"
    }
   ],
   "source": [
    "dataraw = pd.read_csv(\"C:\\Users\\gilad\\Downloads\\DataScienceFinalProject-master\\data\\data_rec.csv\", index_col=0)\n",
    "# remove all movies with no power score\n",
    "data = dataraw[dataraw['year'] > 1980].drop([\"title\", \"director\", \"actor1\", \"actor2\", \"actor3\", \"original_language\", \"id\", \"production_companies\", \"prod_company\", \"production_countries\"], axis=1)\n",
    "myX = pd.read_csv(\"C:\\Users\\gilad\\Downloads\\\\finalProject\\X.csv\")\n",
    "myX = myX[myX['year'] > 1980]\n",
    "data.head()"
   ]
  },
  {
   "cell_type": "code",
   "execution_count": 30,
   "metadata": {},
   "outputs": [
    {
     "data": {
      "text/plain": [
       "<matplotlib.axes._subplots.AxesSubplot at 0x11e8b518>"
      ]
     },
     "execution_count": 30,
     "metadata": {},
     "output_type": "execute_result"
    },
    {
     "data": {
      "image/png": "[encoded data removed]",
      "text/plain": [
       "<matplotlib.figure.Figure at 0x1184c048>"
      ]
     },
     "metadata": {},
     "output_type": "display_data"
    }
   ],
   "source": [
    "%matplotlib inline\n",
    "\n",
    "# calculate the correlation matrix\n",
    "corr = data.corr()\n",
    "\n",
    "# plot the heatmap\n",
    "sns.heatmap(corr, xticklabels=corr.columns, yticklabels=corr.columns)"
   ]
  },
  {
   "cell_type": "code",
   "execution_count": 31,
   "metadata": {},
   "outputs": [
    {
     "name": "stdout",
     "output_type": "stream",
     "text": [
      "the following lists all the correlation values of all features with our label, the movie revenue:\n",
      "\n",
      "genre_TV Movie                           0.002921\n",
      "genre_Western                            0.005839\n",
      "actor2_gender_1.0                        0.006633\n",
      "genre_Mystery                            0.007754\n",
      "genre_Music                              0.012304\n",
      "genre_History                            0.012742\n",
      "genre_Crime                              0.012837\n",
      "actor3_gender_1.0                        0.014953\n",
      "genre_Thriller                           0.016627\n",
      "genre_Romance                            0.027539\n",
      "genre_War                                0.028620\n",
      "genre_Foreign                            0.032004\n",
      "prev_yr_gross_per_movie                  0.044231\n",
      "year                                     0.048288\n",
      "month                                    0.050172\n",
      "genre_Comedy                             0.051970\n",
      "director_gender_1.0                      0.053169\n",
      "actor3_gender_2.0                        0.057889\n",
      "actor1_gender_1.0                        0.059897\n",
      "genre_Horror                             0.066283\n",
      "actor2_gender_2.0                        0.067738\n",
      "genre_Documentary                        0.071108\n",
      "genre_Science Fiction                    0.081982\n",
      "actor1_gender_2.0                        0.112495\n",
      "genre_Drama                              0.118945\n",
      "genre_Family                             0.127026\n",
      "genre_Fantasy                            0.132313\n",
      "genre_Animation                          0.140318\n",
      "director_gender_2.0                      0.141909\n",
      "director_noms                            0.153415\n",
      "director_wins                            0.155254\n",
      "genre_Action                             0.157868\n",
      "vote_average                             0.213901\n",
      "genre_Adventure                          0.223929\n",
      "prod_company_dom_box_office              0.242595\n",
      "runtime                                  0.272155\n",
      "high_prod                                0.280174\n",
      "star_power                               0.326498\n",
      "prod_company_dom_box_office_per_movie    0.405792\n",
      "adjusted_budget                          0.692830\n",
      "vote_count                               0.741076\n",
      "adjusted_revenue                         1.000000\n",
      "Name: adjusted_revenue, dtype: float64\n"
     ]
    }
   ],
   "source": [
    "c = data.corr()['adjusted_revenue'].abs()\n",
    "so = c.sort_values(kind='quicksort')\n",
    "print \"the following lists all the correlation values of all features with our label, the movie revenue:\\n\"\n",
    "print(so)"
   ]
  },
  {
   "cell_type": "code",
   "execution_count": 32,
   "metadata": {
    "collapsed": true
   },
   "outputs": [],
   "source": [
    "# separate data into features and label\n",
    "X = data.drop(['adjusted_revenue'], axis=1)\n",
    "Y = data[['adjusted_revenue']]"
   ]
  },
  {
   "cell_type": "code",
   "execution_count": 33,
   "metadata": {
    "collapsed": true
   },
   "outputs": [],
   "source": [
    "#new_X = X.drop([\"title\", \"director\", \"actor1\", \"actor2\", \"actor3\", \"original_language\", \"id\", \"production_companies\", \"prod_company\", \"production_countries\"], axis=1)\n",
    "#new_X.to_csv(\"C:\\Users\\gilad\\Downloads\\\\finalProject\\X.csv\")\n",
    "#Y.to_csv(\"C:\\Users\\gilad\\Downloads\\\\finalProject\\Y.csv\")"
   ]
  },
  {
   "cell_type": "code",
   "execution_count": 34,
   "metadata": {
    "collapsed": true
   },
   "outputs": [],
   "source": [
    "X_train, X_test, y_train, y_test = train_test_split(myX, Y, test_size=0.2, random_state=1)"
   ]
  },
  {
   "cell_type": "code",
   "execution_count": 35,
   "metadata": {
    "collapsed": true
   },
   "outputs": [],
   "source": [
    "#from sklearn.utils import check_arrays\n",
    "def mean_absolute_percentage_error(y_true, y_pred): \n",
    "    #y_true, y_pred = check_arrays(y_true, y_pred)\n",
    "\n",
    "    ## Note: does not handle mix 1d representation\n",
    "    #if _is_1d(y_true): \n",
    "    #    y_true, y_pred = _check_1d_array(y_true, y_pred)\n",
    "\n",
    "    return np.mean(np.abs((y_true - y_pred) / y_true)) * 100"
   ]
  },
  {
   "cell_type": "markdown",
   "metadata": {},
   "source": [
    "### Linear Regression"
   ]
  },
  {
   "cell_type": "code",
   "execution_count": 104,
   "metadata": {},
   "outputs": [
    {
     "name": "stdout",
     "output_type": "stream",
     "text": [
      "('Coefficients: \\n', array([[ -2.19288935e+05,  -2.24660698e+06,   1.36990283e+00,\n",
      "          1.58656716e+05,   1.77190162e+04,   1.77852403e+06,\n",
      "          8.59658089e+04,  -5.13144546e+06,   1.47850608e+07,\n",
      "          1.31736088e+07,   5.17472958e+06,  -2.59845040e+06,\n",
      "          3.09979023e+06,  -7.05535304e+06,   9.22603807e+06,\n",
      "         -4.96700963e+06,  -1.08316513e+07,  -1.59670436e+07,\n",
      "          4.51392221e+06,  -4.96869603e+06,  -9.50831984e+05,\n",
      "          1.14956886e+07,  -2.31766261e+07,   4.40889416e+07,\n",
      "         -8.79373334e+06,   1.28504663e+06,  -2.23959314e+07,\n",
      "         -1.02608495e+07,  -6.28178515e+06,  -3.09276024e+06,\n",
      "         -1.13048595e+07,  -1.91176625e+07,   3.13557922e+06,\n",
      "         -1.71320472e+05,  -7.16279487e+06,  -6.78636577e+06,\n",
      "         -8.16194188e+05,   1.66285164e+06,  -1.94664113e-03,\n",
      "          5.71263181e-01,   1.00907605e+05,   2.70231347e+07,\n",
      "          2.37591783e+07,  -2.82626268e+05,  -1.49747110e+07]]))\n",
      "Mean squared error: 5489391029193552.00\n",
      "Variance score: 0.83\n",
      "Mean absolute error: 45963654.87\n",
      "mean_absolute_percentage_error: 792.99\n"
     ]
    }
   ],
   "source": [
    "regr = linear_model.LinearRegression()\n",
    "#Train the model using the training sets\n",
    "regr.fit(X_train, y_train)\n",
    "\n",
    "# Make predictions using the testing set\n",
    "y_pred = regr.predict(X_test)\n",
    "\n",
    "# The coefficients\n",
    "print('Coefficients: \\n', regr.coef_)\n",
    "# The mean squared error\n",
    "print(\"Mean squared error: %.2f\"\n",
    "      % mean_squared_error(y_test, y_pred))\n",
    "# Explained variance score: 1 is perfect prediction\n",
    "print('Variance score: %.2f' % r2_score(y_test, y_pred))\n",
    "\n",
    "\n",
    "#\n",
    "print(\"Mean absolute error: %.2f\"\n",
    "      % mean_absolute_error(y_test, y_pred))\n",
    "print(\"mean_absolute_percentage_error: %.2f\"\n",
    "      % mean_absolute_percentage_error(y_test, y_pred))\n",
    "\n",
    "# Plot outputs\n",
    "# plt.scatter(X_test, y_test,  color='black')\n",
    "# plt.plot(X_test, y_pred, color='blue', linewidth=3)\n",
    "\n",
    "# plt.xticks(())\n",
    "# plt.yticks(())\n",
    "\n",
    "# plt.show()"
   ]
  },
  {
   "cell_type": "code",
   "execution_count": 105,
   "metadata": {},
   "outputs": [
    {
     "data": {
      "image/png": "[encoded data removed]",
      "text/plain": [
       "<matplotlib.figure.Figure at 0x118d76d8>"
      ]
     },
     "metadata": {},
     "output_type": "display_data"
    }
   ],
   "source": [
    "mapeVals = []\n",
    "for i in range(0,len(y_pred)):\n",
    "    mapeVals.append(mean_absolute_percentage_error(y_pred[i],y_test[i]))\n",
    "plt.scatter(y_test, mapeVals)\n",
    "plt.xlabel(\"True Revenue\")\n",
    "plt.ylabel(\"MAPE\")\n",
    "plt.show()"
   ]
  },
  {
   "cell_type": "markdown",
   "metadata": {},
   "source": [
    "### PCA"
   ]
  },
  {
   "cell_type": "code",
   "execution_count": 37,
   "metadata": {},
   "outputs": [
    {
     "name": "stdout",
     "output_type": "stream",
     "text": [
      "[  3.69938541e+11   3.46816714e+09   2.09462985e+09   7.15728572e+04\n",
      "   8.38017209e+03]\n",
      "[[  2.96163094e-12  -1.77727220e-10   2.69045346e-03   2.58513258e-10\n",
      "    2.99909125e-10   1.16841955e-11   4.23857966e-08   6.18046124e-12\n",
      "    7.03622281e-12   3.03316563e-12   6.23409417e-12   1.83051450e-12\n",
      "   -2.80762049e-12  -6.77770360e-12   6.44051566e-12   3.59825623e-12\n",
      "   -3.80208671e-13  -3.15036888e-13  -6.31174951e-13   9.02286558e-13\n",
      "    8.88257543e-13   1.40101194e-12   2.56627025e-12  -5.58304688e-14\n",
      "    2.44672180e-12  -2.61395119e-13  -2.06987856e-13   3.91441554e-11\n",
      "   -1.92156751e-12   9.23666060e-12  -3.60758198e-12   9.04541726e-12\n",
      "    8.55265231e-13   6.16035888e-12   1.16341256e-12   5.28994583e-12\n",
      "    1.74076025e-10   4.67076896e-11   9.99978821e-01   5.92609907e-03\n",
      "    3.84130316e-09   6.07115153e-12   2.76466899e-12   5.78938687e-12\n",
      "   -4.37465552e-12]\n",
      " [  4.06093398e-09   2.89483938e-08   9.33287219e-01   1.25106615e-07\n",
      "    7.62054547e-08   2.69661972e-09   1.39335114e-05   2.29215239e-09\n",
      "    2.23282298e-09   7.69101129e-10  -8.79847361e-10   9.70618885e-11\n",
      "   -3.47168060e-10  -9.83785790e-10   8.17986808e-10   9.52090375e-10\n",
      "   -4.97411047e-11   2.40897141e-10  -5.57751226e-10  -9.37460371e-11\n",
      "    7.84410585e-11  -5.06975088e-10   9.03439487e-10  -3.35187193e-13\n",
      "    8.34072259e-10   2.05497747e-10   8.45871294e-11   2.91360813e-09\n",
      "   -3.05079380e-10   1.38632559e-09  -7.46195801e-10   1.45639822e-09\n",
      "    1.74450013e-10   7.02777036e-10   2.07479495e-10   8.32657911e-10\n",
      "    1.44751346e-07   6.42153888e-08  -4.63913150e-03   3.59100885e-01\n",
      "    9.21260501e-07   7.05225472e-10   1.51898506e-10   1.44320948e-09\n",
      "   -3.04021471e-10]\n",
      " [ -3.19463644e-09  -2.15226096e-08  -3.59120771e-01  -6.16570258e-08\n",
      "   -1.14618888e-08   1.03976700e-09  -2.29485145e-06  -7.05075050e-10\n",
      "   -9.55048013e-11   1.52372139e-10   1.19045946e-09  -9.66951505e-11\n",
      "   -2.51329661e-10   7.62890361e-11   6.26489595e-10  -2.20669141e-10\n",
      "   -3.13308842e-11  -1.79436962e-10  -2.47964969e-11   9.58817299e-11\n",
      "   -1.15210803e-10   2.91026268e-10  -3.25879405e-10   4.69245286e-12\n",
      "   -1.60058745e-10  -1.22177497e-10   1.23028167e-10   4.26750952e-09\n",
      "    3.40768002e-11   7.71544095e-11   2.68544780e-10   1.45701426e-11\n",
      "    5.29923236e-10  -1.67648754e-10   6.62639422e-11   3.51985274e-10\n",
      "   -1.02806310e-08   2.31127390e-09  -4.56460830e-03   9.33279934e-01\n",
      "   -1.77177705e-07   6.09482746e-10   2.74498866e-10  -3.55522427e-11\n",
      "   -1.40838405e-11]\n",
      " [  3.01048495e-05   2.04021124e-03  -1.38326438e-05   2.61301880e-03\n",
      "    4.86467329e-03   3.41340186e-04   9.99889869e-01  -5.76516453e-06\n",
      "   -1.61464756e-05  -2.50493554e-06  -4.56499915e-05  -6.51034884e-06\n",
      "   -5.14860555e-07  -3.32475727e-05  -1.39813290e-05  -5.85125157e-06\n",
      "   -3.64882549e-07  -6.27244720e-06  -2.23481734e-06  -5.58440580e-06\n",
      "   -5.48301775e-06  -2.05893569e-05   3.82146921e-06  -1.01157122e-07\n",
      "   -2.81268282e-05  -2.76170114e-06  -4.21287173e-06   2.24029991e-05\n",
      "   -3.40353491e-06   1.68231552e-05  -2.51644772e-06   8.39133963e-06\n",
      "   -2.47302481e-06   1.30709314e-05   3.07080337e-06   4.03046590e-06\n",
      "    1.21566161e-02   5.09122372e-03   1.17841672e-08  -2.86297367e-06\n",
      "    3.42941033e-03  -1.70807204e-05  -2.39214266e-06   2.14174500e-05\n",
      "    7.02113291e-05]\n",
      " [  1.72929086e-03  -2.64312005e-03  -8.75001651e-07   1.95410704e-02\n",
      "    2.13238978e-03   5.15529059e-04  -4.16972088e-03  -1.13616118e-04\n",
      "   -1.40446105e-04  -1.12309928e-04   1.28781294e-04   1.34241306e-04\n",
      "   -6.39612176e-05   2.65172004e-04  -1.46601111e-04  -3.23883142e-05\n",
      "   -1.00666208e-05   1.11388098e-05  -2.48617005e-04  -5.07765590e-05\n",
      "    3.84973175e-05   1.47706418e-04  -1.41027539e-04  -1.84549529e-07\n",
      "    1.24560554e-05   3.06793960e-05   1.90505429e-05   4.02117153e-04\n",
      "   -2.24529618e-05   2.11242068e-04  -1.91333757e-04   3.30256905e-04\n",
      "    5.76327479e-05   1.67464554e-04   7.68520947e-05   1.55584564e-04\n",
      "    4.86011108e-02   1.92731794e-02  -3.97474627e-10  -1.55658358e-07\n",
      "    9.98424548e-01  -1.08148796e-04  -4.57831739e-05   9.69724177e-06\n",
      "    3.93974098e-04]]\n"
     ]
    }
   ],
   "source": [
    "pca = PCA(n_components=5)\n",
    "pca.fit(myX)\n",
    "print(pca.singular_values_) \n",
    "print(pca.components_) "
   ]
  },
  {
   "cell_type": "markdown",
   "metadata": {},
   "source": [
    "### standardize "
   ]
  },
  {
   "cell_type": "code",
   "execution_count": 38,
   "metadata": {},
   "outputs": [
    {
     "data": {
      "text/plain": [
       "(5264L, 45L)"
      ]
     },
     "execution_count": 38,
     "metadata": {},
     "output_type": "execute_result"
    }
   ],
   "source": [
    "from sklearn.preprocessing import StandardScaler\n",
    "X_std = StandardScaler().fit_transform(myX)\n",
    "X_std.shape"
   ]
  },
  {
   "cell_type": "code",
   "execution_count": 39,
   "metadata": {},
   "outputs": [
    {
     "name": "stdout",
     "output_type": "stream",
     "text": [
      "[ 145.74345718  121.32595599  109.38852536  104.759416     99.71996139]\n",
      "[[ 0.06600519  0.02527198  0.36420127  0.21805219  0.22299207  0.18608816\n",
      "   0.33106531  0.14816122  0.16836726  0.07381703 -0.03533681  0.06582085\n",
      "  -0.0921769  -0.00260782  0.08519336  0.0916186  -0.04345966  0.06194351\n",
      "  -0.05476509 -0.01383513  0.03654164 -0.03217149  0.09018527 -0.00423339\n",
      "   0.08456021  0.05572609  0.03154946  0.30134154 -0.09814467  0.18889645\n",
      "  -0.11937386  0.18797395  0.02778917  0.05847633  0.00549795  0.08279448\n",
      "   0.2037921   0.19761608  0.24149514  0.31363694  0.23133333  0.06537952\n",
      "   0.04016918  0.09198326  0.05258773]\n",
      " [ 0.09470431  0.04659367 -0.1045503   0.26695329  0.01858822  0.19692331\n",
      "   0.03568109 -0.09415076 -0.21004932 -0.26579071 -0.15170228  0.1107491\n",
      "   0.01499073  0.22387576 -0.33084595 -0.20277193  0.00813164  0.11108203\n",
      "  -0.02739324 -0.03123321  0.07634546  0.02686958 -0.13142663  0.00499871\n",
      "   0.05387153  0.0796      0.02407416 -0.07158321  0.02704205  0.00721542\n",
      "  -0.00060287  0.00752083  0.02237414 -0.0153376  -0.02680341  0.03563786\n",
      "   0.35666783  0.35548983 -0.18064713 -0.19503217  0.02726369 -0.19837433\n",
      "  -0.18703358 -0.00391097  0.22495268]\n",
      " [ 0.02760549  0.15221234  0.05395172  0.05914069  0.09275926  0.09311777\n",
      "   0.11669267 -0.14218164 -0.03878878  0.05350238  0.01870385 -0.10524283\n",
      "   0.00194119  0.02942893  0.05295234 -0.0145193  -0.02073621  0.00575807\n",
      "  -0.07212515  0.02082381 -0.05950311  0.04694283 -0.09164695 -0.00686232\n",
      "  -0.14239317 -0.01398724 -0.00609961  0.06612186  0.15299592 -0.09257092\n",
      "   0.40501156 -0.38376915 -0.39775636  0.39647772  0.29243207 -0.28135398\n",
      "   0.07182453  0.07128901  0.04483301  0.05796516  0.01911412  0.06536081\n",
      "   0.06375123  0.07759301 -0.00080232]\n",
      " [ 0.10269965  0.05985499 -0.02085253  0.00956674  0.01361932  0.10351579\n",
      "   0.04073718 -0.31557237 -0.07273006  0.13103873  0.1388276  -0.28287409\n",
      "   0.04587877  0.061687    0.17887176  0.06871982  0.02395848  0.02708527\n",
      "  -0.17337174  0.0926074  -0.20602907  0.18445652 -0.13334707 -0.0220631\n",
      "  -0.38579431 -0.00609299 -0.03900083  0.01823603  0.14737964 -0.10030529\n",
      "   0.02563026 -0.0429612   0.35213712 -0.36575372 -0.10158513  0.0811083\n",
      "   0.18743572  0.18756743  0.03212793  0.05033632  0.00193567  0.1395804\n",
      "   0.12405851  0.02901831 -0.06964594]\n",
      " [-0.13221617  0.23605916  0.090401   -0.0252687   0.1745157  -0.04390715\n",
      "   0.14459791  0.03213009 -0.08687169 -0.10646914 -0.08373035 -0.01674698\n",
      "  -0.0111907  -0.12619604 -0.17249431 -0.08973197 -0.01764812 -0.09221428\n",
      "   0.08409983 -0.07258368  0.05470523 -0.04618088  0.00107148  0.00413241\n",
      "   0.05803947 -0.05392744 -0.05234241  0.12191439  0.12747024 -0.12623286\n",
      "   0.33332873 -0.32116242  0.09394887 -0.08392763 -0.42184419  0.43276721\n",
      "  -0.14216595 -0.14327241  0.08002144  0.09696259  0.0246867  -0.09646815\n",
      "  -0.07272145  0.18155152  0.03456624]]\n"
     ]
    }
   ],
   "source": [
    "pca = PCA(n_components=5)\n",
    "pca.fit(X_std)\n",
    "print(pca.singular_values_) \n",
    "print(pca.components_) "
   ]
  },
  {
   "cell_type": "code",
   "execution_count": 40,
   "metadata": {
    "collapsed": true
   },
   "outputs": [],
   "source": [
    "# cov = np.cov(X_std)\n",
    "# w, v = LA.eig(cov)"
   ]
  },
  {
   "cell_type": "code",
   "execution_count": 41,
   "metadata": {
    "collapsed": true
   },
   "outputs": [],
   "source": [
    "# print w\n",
    "# print v"
   ]
  },
  {
   "cell_type": "code",
   "execution_count": 42,
   "metadata": {},
   "outputs": [
    {
     "name": "stdout",
     "output_type": "stream",
     "text": [
      "Eigenvectors \n",
      "[[ 0.0660112  -0.09685386  0.03210865 ...,  0.08795196 -0.27708352\n",
      "  -0.07607672]\n",
      " [ 0.0253757  -0.04848243  0.14869857 ..., -0.29811245  0.14583109\n",
      "  -0.056365  ]\n",
      " [ 0.36430556  0.10426266  0.05231972 ...,  0.09039817  0.15628351\n",
      "   0.13252161]\n",
      " ..., \n",
      " [ 0.04019001  0.18865376  0.06354858 ...,  0.04244069 -0.11067734\n",
      "   0.04126527]\n",
      " [ 0.09197656  0.00141869  0.0779177  ..., -0.09309522 -0.07179008\n",
      "  -0.1000765 ]\n",
      " [ 0.05262895 -0.22446413 -0.00079277 ..., -0.20222006 -0.0037204\n",
      "   0.03501394]]\n",
      "\n",
      "Eigenvalues \n",
      "[ 4.03517969  2.79667495  2.27415089  2.09053752  1.89294392  1.74979647\n",
      "  1.73636645  1.52454588  1.5127742   0.02286772  0.0889665   0.11012982\n",
      "  1.36074395  0.19913514  1.25775733  1.21544712  1.20175696  0.262284\n",
      "  0.29635753  1.11598005  1.08609742  0.39488924  0.43445694  0.44198914\n",
      "  0.47640237  0.4856986   0.51449048  0.52900435  0.57855216  0.59601559\n",
      "  0.63374417  0.6694229   0.69654976  0.72825289  0.71735993  1.03367821\n",
      "  1.01473798  0.99856463  0.97742215  0.94975625  0.91329754  0.80072842\n",
      "  0.84164542  0.87340743  0.86943994]\n"
     ]
    }
   ],
   "source": [
    "cor_mat1 = np.corrcoef(X_std.T)\n",
    "\n",
    "eig_vals, eig_vecs = np.linalg.eig(cor_mat1)\n",
    "\n",
    "print('Eigenvectors \\n%s' %eig_vecs)\n",
    "print('\\nEigenvalues \\n%s' %eig_vals)"
   ]
  },
  {
   "cell_type": "code",
   "execution_count": 43,
   "metadata": {},
   "outputs": [
    {
     "name": "stdout",
     "output_type": "stream",
     "text": [
      "Eigenvalues in descending order:\n",
      "4.03517968971\n",
      "2.79667495244\n",
      "2.27415089438\n",
      "2.09053752204\n",
      "1.89294391669\n",
      "1.74979647458\n",
      "1.73636645295\n",
      "1.52454588269\n",
      "1.51277419917\n",
      "1.36074395052\n",
      "1.25775732911\n",
      "1.21544712283\n",
      "1.20175695576\n",
      "1.11598004658\n",
      "1.08609742107\n",
      "1.03367821264\n",
      "1.01473798373\n",
      "0.998564628873\n",
      "0.977422146221\n",
      "0.949756250251\n",
      "0.913297540676\n",
      "0.873407432452\n",
      "0.869439939376\n",
      "0.841645416508\n",
      "0.80072841745\n",
      "0.728252889374\n",
      "0.717359930477\n",
      "0.696549757876\n",
      "0.66942289658\n",
      "0.633744173715\n",
      "0.596015585609\n",
      "0.578552158831\n",
      "0.529004353132\n",
      "0.514490481144\n",
      "0.485698603661\n",
      "0.476402366776\n",
      "0.441989143194\n",
      "0.434456937589\n",
      "0.394889237139\n",
      "0.296357530597\n",
      "0.262283997271\n",
      "0.199135138344\n",
      "0.110129818541\n",
      "0.0889665028796\n",
      "0.022867718554\n"
     ]
    }
   ],
   "source": [
    "# Make a list of (eigenvalue, eigenvector) tuples\n",
    "eig_pairs = [(np.abs(eig_vals[i]), eig_vecs[:,i]) for i in range(len(eig_vals))]\n",
    "\n",
    "# Sort the (eigenvalue, eigenvector) tuples from high to low\n",
    "eig_pairs.sort()\n",
    "eig_pairs.reverse()\n",
    "\n",
    "# Visually confirm that the list is correctly sorted by decreasing eigenvalues\n",
    "print('Eigenvalues in descending order:')\n",
    "for i in eig_pairs:\n",
    "    print(i[0])"
   ]
  },
  {
   "cell_type": "code",
   "execution_count": 44,
   "metadata": {},
   "outputs": [
    {
     "name": "stdout",
     "output_type": "stream",
     "text": [
      " the indices of the highest eignevalues are:\n"
     ]
    },
    {
     "data": {
      "text/plain": [
       "array([0, 1, 2, 3, 4, 5, 6], dtype=int64)"
      ]
     },
     "execution_count": 44,
     "metadata": {},
     "output_type": "execute_result"
    }
   ],
   "source": [
    "print \" the indices of the highest eignevalues are:\"\n",
    "top20comp = eig_vals.argsort()[-20:][::-1]\n",
    "top20comp\n",
    "\n",
    "top7comp = eig_vals.argsort()[-7:][::-1]\n",
    "top7comp"
   ]
  },
  {
   "cell_type": "code",
   "execution_count": 45,
   "metadata": {},
   "outputs": [
    {
     "name": "stdout",
     "output_type": "stream",
     "text": [
      "the top 7 principal components are: \n"
     ]
    },
    {
     "data": {
      "text/html": [
       "<div>\n",
       "<style scoped>\n",
       "    .dataframe tbody tr th:only-of-type {\n",
       "        vertical-align: middle;\n",
       "    }\n",
       "\n",
       "    .dataframe tbody tr th {\n",
       "        vertical-align: top;\n",
       "    }\n",
       "\n",
       "    .dataframe thead th {\n",
       "        text-align: right;\n",
       "    }\n",
       "</style>\n",
       "<table border=\"1\" class=\"dataframe\">\n",
       "  <thead>\n",
       "    <tr style=\"text-align: right;\">\n",
       "      <th></th>\n",
       "      <th>month</th>\n",
       "      <th>year</th>\n",
       "      <th>adjusted_budget</th>\n",
       "      <th>runtime</th>\n",
       "      <th>popularity</th>\n",
       "      <th>vote_average</th>\n",
       "      <th>vote_count</th>\n",
       "    </tr>\n",
       "  </thead>\n",
       "  <tbody>\n",
       "  </tbody>\n",
       "</table>\n",
       "</div>"
      ],
      "text/plain": [
       "Empty DataFrame\n",
       "Columns: [month, year, adjusted_budget, runtime, popularity, vote_average, vote_count]\n",
       "Index: []"
      ]
     },
     "execution_count": 45,
     "metadata": {},
     "output_type": "execute_result"
    }
   ],
   "source": [
    "print \"the top 7 principal components are: \"\n",
    "myX.iloc[:0,top7comp]"
   ]
  },
  {
   "cell_type": "markdown",
   "metadata": {},
   "source": [
    "### XGBOOST"
   ]
  },
  {
   "cell_type": "code",
   "execution_count": 46,
   "metadata": {
    "collapsed": true
   },
   "outputs": [],
   "source": [
    "xgb = xgboost.XGBRegressor(n_estimators=100, learning_rate=0.08, gamma=0, subsample=0.75, colsample_bytree=1, max_depth=7)\n",
    "xgb.fit(X_train, y_train)\n",
    "\n",
    "# Make predictions using the testing set\n",
    "y_pred = xgb.predict(X_test)"
   ]
  },
  {
   "cell_type": "code",
   "execution_count": 48,
   "metadata": {},
   "outputs": [
    {
     "name": "stdout",
     "output_type": "stream",
     "text": [
      "('Coefficients: \\n', array([[ -2.19288935e+05,  -2.24660698e+06,   1.36990283e+00,\n",
      "          1.58656716e+05,   1.77190162e+04,   1.77852403e+06,\n",
      "          8.59658089e+04,  -5.13144546e+06,   1.47850608e+07,\n",
      "          1.31736088e+07,   5.17472958e+06,  -2.59845040e+06,\n",
      "          3.09979023e+06,  -7.05535304e+06,   9.22603807e+06,\n",
      "         -4.96700963e+06,  -1.08316513e+07,  -1.59670436e+07,\n",
      "          4.51392221e+06,  -4.96869603e+06,  -9.50831984e+05,\n",
      "          1.14956886e+07,  -2.31766261e+07,   4.40889416e+07,\n",
      "         -8.79373334e+06,   1.28504663e+06,  -2.23959314e+07,\n",
      "         -1.02608495e+07,  -6.28178515e+06,  -3.09276024e+06,\n",
      "         -1.13048595e+07,  -1.91176625e+07,   3.13557922e+06,\n",
      "         -1.71320472e+05,  -7.16279487e+06,  -6.78636577e+06,\n",
      "         -8.16194188e+05,   1.66285164e+06,  -1.94664113e-03,\n",
      "          5.71263181e-01,   1.00907605e+05,   2.70231347e+07,\n",
      "          2.37591783e+07,  -2.82626268e+05,  -1.49747110e+07]]))\n",
      "Mean squared error: 15062787080608416.00\n",
      "Variance score: 0.72\n",
      "Mean absolute error: 51877962.43\n",
      "(1053, 1)\n",
      "(1053L,)\n",
      "mean_absolute_percentage_error: 388.09\n"
     ]
    }
   ],
   "source": [
    "# The coefficients\n",
    "print('Coefficients: \\n', regr.coef_)\n",
    "# The mean squared error\n",
    "print(\"Mean squared error: %.2f\"\n",
    "      % mean_squared_error(y_test, y_pred))\n",
    "# Explained variance score: 1 is perfect prediction\n",
    "print('Variance score: %.2f' % r2_score(y_test, y_pred))\n",
    "\n",
    "print(\"Mean absolute error: %.2f\"\n",
    "      % mean_absolute_error(y_test, y_pred))\n",
    "\n",
    "print y_test.shape\n",
    "print y_pred.shape\n",
    "print(\"mean_absolute_percentage_error: %.2f\"\n",
    "      % mean_absolute_percentage_error(np.ravel(y_test), np.ravel(y_pred)))"
   ]
  },
  {
   "cell_type": "markdown",
   "metadata": {},
   "source": [
    "### xgboost with the standardized data"
   ]
  },
  {
   "cell_type": "code",
   "execution_count": 21,
   "metadata": {
    "collapsed": true
   },
   "outputs": [],
   "source": [
    "# xgb2 = xgboost.XGBRegressor(n_estimators=100, learning_rate=0.08, gamma=0, subsample=0.75, colsample_bytree=1, max_depth=7)\n",
    "# xgb2.fit(X_std, y_train)\n",
    "\n",
    "# # Make predictions using the testing set\n",
    "# y_pred = xgb2.predict(X_test)"
   ]
  },
  {
   "cell_type": "code",
   "execution_count": 22,
   "metadata": {
    "collapsed": true
   },
   "outputs": [],
   "source": [
    "# # The coefficients\n",
    "# print('Coefficients: \\n', regr.coef_)\n",
    "# # The mean squared error\n",
    "# print(\"Mean squared error: %.2f\"\n",
    "#       % mean_squared_error(y_test, y_pred))\n",
    "# # Explained variance score: 1 is perfect prediction\n",
    "# print('Variance score: %.2f' % r2_score(y_test, y_pred))\n",
    "\n",
    "# print(\"Mean absolute error: %.2f\"\n",
    "#       % mean_absolute_error(y_test, y_pred))\n",
    "\n",
    "# print y_test.shape\n",
    "# print y_pred.shape\n",
    "# print(\"mean_absolute_percentage_error: %.2f\"\n",
    "#       % mean_absolute_percentage_error(np.ravel(y_test), np.ravel(y_pred)))"
   ]
  },
  {
   "cell_type": "markdown",
   "metadata": {},
   "source": [
    "### The bootstrap"
   ]
  },
  {
   "cell_type": "code",
   "execution_count": null,
   "metadata": {
    "collapsed": true
   },
   "outputs": [],
   "source": []
  },
  {
   "cell_type": "markdown",
   "metadata": {},
   "source": [
    "### Ridge regression"
   ]
  },
  {
   "cell_type": "code",
   "execution_count": 49,
   "metadata": {
    "collapsed": true
   },
   "outputs": [],
   "source": [
    "from sklearn.linear_model import Ridge\n",
    "clf = Ridge(alpha=1.0)\n",
    "clf.fit(X_train, y_train) \n",
    "y_test = clf.predict(X_test)"
   ]
  },
  {
   "cell_type": "code",
   "execution_count": 51,
   "metadata": {},
   "outputs": [
    {
     "name": "stdout",
     "output_type": "stream",
     "text": [
      "('Coefficients: \\n', array([[ -2.19288935e+05,  -2.24660698e+06,   1.36990283e+00,\n",
      "          1.58656716e+05,   1.77190162e+04,   1.77852403e+06,\n",
      "          8.59658089e+04,  -5.13144546e+06,   1.47850608e+07,\n",
      "          1.31736088e+07,   5.17472958e+06,  -2.59845040e+06,\n",
      "          3.09979023e+06,  -7.05535304e+06,   9.22603807e+06,\n",
      "         -4.96700963e+06,  -1.08316513e+07,  -1.59670436e+07,\n",
      "          4.51392221e+06,  -4.96869603e+06,  -9.50831984e+05,\n",
      "          1.14956886e+07,  -2.31766261e+07,   4.40889416e+07,\n",
      "         -8.79373334e+06,   1.28504663e+06,  -2.23959314e+07,\n",
      "         -1.02608495e+07,  -6.28178515e+06,  -3.09276024e+06,\n",
      "         -1.13048595e+07,  -1.91176625e+07,   3.13557922e+06,\n",
      "         -1.71320472e+05,  -7.16279487e+06,  -6.78636577e+06,\n",
      "         -8.16194188e+05,   1.66285164e+06,  -1.94664113e-03,\n",
      "          5.71263181e-01,   1.00907605e+05,   2.70231347e+07,\n",
      "          2.37591783e+07,  -2.82626268e+05,  -1.49747110e+07]]))\n",
      "Mean squared error: 4299689929342103.00\n",
      "Variance score: 0.86\n",
      "Mean absolute error: 39520110.14\n",
      "(1053L, 1L)\n",
      "(1053L,)\n",
      "mean_absolute_percentage_error: 521.08\n"
     ]
    }
   ],
   "source": [
    "# The coefficients\n",
    "print('Coefficients: \\n', regr.coef_)\n",
    "# The mean squared error\n",
    "print(\"Mean squared error: %.2f\"\n",
    "      % mean_squared_error(y_test, y_pred))\n",
    "# Explained variance score: 1 is perfect prediction\n",
    "print('Variance score: %.2f' % r2_score(y_test, y_pred))\n",
    "\n",
    "print(\"Mean absolute error: %.2f\"\n",
    "      % mean_absolute_error(y_test, y_pred))\n",
    "\n",
    "print y_test.shape\n",
    "print y_pred.shape\n",
    "print(\"mean_absolute_percentage_error: %.2f\"\n",
    "      % mean_absolute_percentage_error(np.ravel(y_test), np.ravel(y_pred)))"
   ]
  },
  {
   "cell_type": "code",
   "execution_count": 53,
   "metadata": {},
   "outputs": [
    {
     "data": {
      "text/html": [
       "<div>\n",
       "<style scoped>\n",
       "    .dataframe tbody tr th:only-of-type {\n",
       "        vertical-align: middle;\n",
       "    }\n",
       "\n",
       "    .dataframe tbody tr th {\n",
       "        vertical-align: top;\n",
       "    }\n",
       "\n",
       "    .dataframe thead th {\n",
       "        text-align: right;\n",
       "    }\n",
       "</style>\n",
       "<table border=\"1\" class=\"dataframe\">\n",
       "  <thead>\n",
       "    <tr style=\"text-align: right;\">\n",
       "      <th></th>\n",
       "      <th>month</th>\n",
       "      <th>year</th>\n",
       "      <th>adjusted_budget</th>\n",
       "      <th>runtime</th>\n",
       "      <th>popularity</th>\n",
       "      <th>vote_average</th>\n",
       "      <th>vote_count</th>\n",
       "      <th>genre_Action</th>\n",
       "      <th>genre_Adventure</th>\n",
       "      <th>genre_Animation</th>\n",
       "      <th>...</th>\n",
       "      <th>actor3_gender_2.0</th>\n",
       "      <th>director_noms</th>\n",
       "      <th>director_wins</th>\n",
       "      <th>prod_company_dom_box_office</th>\n",
       "      <th>prod_company_dom_box_office_per_movie</th>\n",
       "      <th>star_power</th>\n",
       "      <th>isPG</th>\n",
       "      <th>isG</th>\n",
       "      <th>isPG13</th>\n",
       "      <th>isR</th>\n",
       "    </tr>\n",
       "  </thead>\n",
       "  <tbody>\n",
       "    <tr>\n",
       "      <th>913</th>\n",
       "      <td>5</td>\n",
       "      <td>1987</td>\n",
       "      <td>0.00</td>\n",
       "      <td>88</td>\n",
       "      <td>13.416334</td>\n",
       "      <td>5.0</td>\n",
       "      <td>66</td>\n",
       "      <td>0</td>\n",
       "      <td>0</td>\n",
       "      <td>0</td>\n",
       "      <td>...</td>\n",
       "      <td>1</td>\n",
       "      <td>1</td>\n",
       "      <td>0</td>\n",
       "      <td>0</td>\n",
       "      <td>0</td>\n",
       "      <td>0</td>\n",
       "      <td>0</td>\n",
       "      <td>0</td>\n",
       "      <td>0</td>\n",
       "      <td>0</td>\n",
       "    </tr>\n",
       "    <tr>\n",
       "      <th>1257</th>\n",
       "      <td>2</td>\n",
       "      <td>1996</td>\n",
       "      <td>4688292.95</td>\n",
       "      <td>96</td>\n",
       "      <td>7.047560</td>\n",
       "      <td>6.8</td>\n",
       "      <td>177</td>\n",
       "      <td>0</td>\n",
       "      <td>0</td>\n",
       "      <td>0</td>\n",
       "      <td>...</td>\n",
       "      <td>1</td>\n",
       "      <td>187</td>\n",
       "      <td>53</td>\n",
       "      <td>0</td>\n",
       "      <td>0</td>\n",
       "      <td>0</td>\n",
       "      <td>0</td>\n",
       "      <td>0</td>\n",
       "      <td>0</td>\n",
       "      <td>0</td>\n",
       "    </tr>\n",
       "    <tr>\n",
       "      <th>4141</th>\n",
       "      <td>11</td>\n",
       "      <td>2010</td>\n",
       "      <td>33723467.18</td>\n",
       "      <td>133</td>\n",
       "      <td>9.591425</td>\n",
       "      <td>6.9</td>\n",
       "      <td>927</td>\n",
       "      <td>0</td>\n",
       "      <td>0</td>\n",
       "      <td>0</td>\n",
       "      <td>...</td>\n",
       "      <td>1</td>\n",
       "      <td>89</td>\n",
       "      <td>43</td>\n",
       "      <td>3652798624</td>\n",
       "      <td>33822209</td>\n",
       "      <td>186</td>\n",
       "      <td>0</td>\n",
       "      <td>0</td>\n",
       "      <td>1</td>\n",
       "      <td>0</td>\n",
       "    </tr>\n",
       "    <tr>\n",
       "      <th>4045</th>\n",
       "      <td>5</td>\n",
       "      <td>2010</td>\n",
       "      <td>11241155.73</td>\n",
       "      <td>90</td>\n",
       "      <td>11.107782</td>\n",
       "      <td>5.1</td>\n",
       "      <td>184</td>\n",
       "      <td>1</td>\n",
       "      <td>1</td>\n",
       "      <td>0</td>\n",
       "      <td>...</td>\n",
       "      <td>1</td>\n",
       "      <td>21</td>\n",
       "      <td>7</td>\n",
       "      <td>6596301574</td>\n",
       "      <td>67309199</td>\n",
       "      <td>0</td>\n",
       "      <td>0</td>\n",
       "      <td>0</td>\n",
       "      <td>0</td>\n",
       "      <td>1</td>\n",
       "    </tr>\n",
       "    <tr>\n",
       "      <th>2499</th>\n",
       "      <td>8</td>\n",
       "      <td>1990</td>\n",
       "      <td>0.00</td>\n",
       "      <td>90</td>\n",
       "      <td>0.879697</td>\n",
       "      <td>6.4</td>\n",
       "      <td>7</td>\n",
       "      <td>0</td>\n",
       "      <td>0</td>\n",
       "      <td>0</td>\n",
       "      <td>...</td>\n",
       "      <td>0</td>\n",
       "      <td>0</td>\n",
       "      <td>0</td>\n",
       "      <td>0</td>\n",
       "      <td>0</td>\n",
       "      <td>0</td>\n",
       "      <td>0</td>\n",
       "      <td>0</td>\n",
       "      <td>0</td>\n",
       "      <td>0</td>\n",
       "    </tr>\n",
       "  </tbody>\n",
       "</table>\n",
       "<p>5 rows × 45 columns</p>\n",
       "</div>"
      ],
      "text/plain": [
       "      month  year  adjusted_budget  runtime  popularity  vote_average  \\\n",
       "913       5  1987             0.00       88   13.416334           5.0   \n",
       "1257      2  1996       4688292.95       96    7.047560           6.8   \n",
       "4141     11  2010      33723467.18      133    9.591425           6.9   \n",
       "4045      5  2010      11241155.73       90   11.107782           5.1   \n",
       "2499      8  1990             0.00       90    0.879697           6.4   \n",
       "\n",
       "      vote_count  genre_Action  genre_Adventure  genre_Animation ...   \\\n",
       "913           66             0                0                0 ...    \n",
       "1257         177             0                0                0 ...    \n",
       "4141         927             0                0                0 ...    \n",
       "4045         184             1                1                0 ...    \n",
       "2499           7             0                0                0 ...    \n",
       "\n",
       "      actor3_gender_2.0  director_noms  director_wins  \\\n",
       "913                   1              1              0   \n",
       "1257                  1            187             53   \n",
       "4141                  1             89             43   \n",
       "4045                  1             21              7   \n",
       "2499                  0              0              0   \n",
       "\n",
       "      prod_company_dom_box_office  prod_company_dom_box_office_per_movie  \\\n",
       "913                             0                                      0   \n",
       "1257                            0                                      0   \n",
       "4141                   3652798624                               33822209   \n",
       "4045                   6596301574                               67309199   \n",
       "2499                            0                                      0   \n",
       "\n",
       "      star_power  isPG  isG  isPG13  isR  \n",
       "913            0     0    0       0    0  \n",
       "1257           0     0    0       0    0  \n",
       "4141         186     0    0       1    0  \n",
       "4045           0     0    0       0    1  \n",
       "2499           0     0    0       0    0  \n",
       "\n",
       "[5 rows x 45 columns]"
      ]
     },
     "execution_count": 53,
     "metadata": {},
     "output_type": "execute_result"
    }
   ],
   "source": [
    "X_train.head()"
   ]
  },
  {
   "cell_type": "code",
   "execution_count": 56,
   "metadata": {},
   "outputs": [
    {
     "name": "stdout",
     "output_type": "stream",
     "text": [
      "alpha is 0.01\n",
      "Mean squared error: 4301117862985009.00\n",
      "Variance score: 0.86\n",
      "Mean absolute error: 39533654.51\n",
      "mean_absolute_percentage_error: 222.45\n",
      "alpha is 0.1\n",
      "Mean squared error: 4300971367486079.00\n",
      "Variance score: 0.86\n",
      "Mean absolute error: 39532280.82\n",
      "mean_absolute_percentage_error: 238.10\n",
      "alpha is 0.5\n",
      "Mean squared error: 4300366074459994.00\n",
      "Variance score: 0.86\n",
      "Mean absolute error: 39526560.22\n",
      "mean_absolute_percentage_error: 418.97\n",
      "alpha is 1\n",
      "Mean squared error: 4299689929342103.00\n",
      "Variance score: 0.86\n",
      "Mean absolute error: 39520110.14\n",
      "mean_absolute_percentage_error: 521.08\n",
      "alpha is 3\n",
      "Mean squared error: 4297476462676748.00\n",
      "Variance score: 0.86\n",
      "Mean absolute error: 39498448.50\n",
      "mean_absolute_percentage_error: 168.97\n",
      "alpha is 5\n",
      "Mean squared error: 4295654539465291.00\n",
      "Variance score: 0.86\n",
      "Mean absolute error: 39480013.15\n",
      "mean_absolute_percentage_error: 156.99\n",
      "alpha is 10\n",
      "Mean squared error: 4291817273370043.50\n",
      "Variance score: 0.86\n",
      "Mean absolute error: 39440172.38\n",
      "mean_absolute_percentage_error: 182.28\n",
      "alpha is 20\n",
      "Mean squared error: 4285486577905650.00\n",
      "Variance score: 0.86\n",
      "Mean absolute error: 39369838.67\n",
      "mean_absolute_percentage_error: 165.72\n",
      "alpha is 30\n",
      "Mean squared error: 4280064866605329.50\n",
      "Variance score: 0.86\n",
      "Mean absolute error: 39305506.45\n",
      "mean_absolute_percentage_error: 1753.31\n",
      "alpha is 40\n",
      "Mean squared error: 4275224287401085.50\n",
      "Variance score: 0.86\n",
      "Mean absolute error: 39252369.61\n",
      "mean_absolute_percentage_error: 148.78\n",
      "alpha is 50\n",
      "Mean squared error: 4270827043962843.00\n",
      "Variance score: 0.86\n",
      "Mean absolute error: 39207595.77\n",
      "mean_absolute_percentage_error: 131.29\n"
     ]
    }
   ],
   "source": [
    "alphToMAPE = {}\n",
    "for alpha in [.01,.1,.5,1,3,5,10,20,30,40,50]:\n",
    "    print \"alpha is \" + str(alpha)\n",
    "    clf = Ridge(alpha=alpha)\n",
    "    clf.fit(X_train, y_train) \n",
    "    y_test = clf.predict(X_test)\n",
    "    # The coefficients\n",
    "    #print('Coefficients: \\n', regr.coef_)\n",
    "    # The mean squared error\n",
    "    print(\"Mean squared error: %.2f\"\n",
    "          % mean_squared_error(y_test, y_pred))\n",
    "    # Explained variance score: 1 is perfect prediction\n",
    "    print('Variance score: %.2f' % r2_score(y_test, y_pred))\n",
    "\n",
    "    print(\"Mean absolute error: %.2f\"\n",
    "          % mean_absolute_error(y_test, y_pred))\n",
    "\n",
    "    print(\"mean_absolute_percentage_error: %.2f\"\n",
    "          % mean_absolute_percentage_error(np.ravel(y_test), np.ravel(y_pred)))\n",
    "    alphToMAPE[alpha] = mean_absolute_percentage_error(y_test, y_pred)"
   ]
  },
  {
   "cell_type": "code",
   "execution_count": 58,
   "metadata": {},
   "outputs": [
    {
     "data": {
      "image/png": "[encoded data removed]",
      "text/plain": [
       "<matplotlib.figure.Figure at 0x121bf198>"
      ]
     },
     "metadata": {},
     "output_type": "display_data"
    },
    {
     "name": "stdout",
     "output_type": "stream",
     "text": [
      "{0.5: 3801.6456859353561, 1: 2528.0221710213505, 3: 939.33740945289378, 5: 868.44764298111591, 0.1: 1758.419289161511, 40: 900.98653202384344, 10: 880.62004675982041, 50: 851.43938180839064, 20: 1077.2551315571645, 30: 9913.311223357292, 0.01: 1582.4355084514336}\n"
     ]
    }
   ],
   "source": [
    "lists = sorted(alphToMAPE.items()) # sorted by key, return a list of tuples\n",
    "\n",
    "x, y = zip(*lists) # unpack a list of pairs into two tuples\n",
    "\n",
    "plt.plot(x, y)\n",
    "plt.show()\n",
    "print alphToMAPE"
   ]
  },
  {
   "cell_type": "markdown",
   "metadata": {},
   "source": [
    "#### After getting good results for ridge with alpha of 1 (222 percent MAPE), we decided to go ahead and explore different values of alphas to find the optimal one. Alpha of 30 seems to be the best with MAPE value of 113.5%. We are aware of a common effect of large alphas to cause overfitting, however we are working with a validation set so we believe that it is not an issue in this case."
   ]
  },
  {
   "cell_type": "code",
   "execution_count": 59,
   "metadata": {
    "collapsed": true
   },
   "outputs": [],
   "source": [
    "from sklearn.linear_model import RidgeCV\n",
    "\n",
    "clf = RidgeCV(alphas=[1,2,3,20,25,30], cv=50)\n",
    "clf.fit(X_train, y_train) \n",
    "y_test = clf.predict(X_test)"
   ]
  },
  {
   "cell_type": "code",
   "execution_count": 60,
   "metadata": {},
   "outputs": [
    {
     "name": "stdout",
     "output_type": "stream",
     "text": [
      "Mean squared error: 4280064866605329.50\n",
      "Variance score: 0.86\n",
      "Mean absolute error: 39305506.45\n",
      "(1053L, 1L)\n",
      "(1053L,)\n",
      "mean_absolute_percentage_error: 1753.31\n"
     ]
    }
   ],
   "source": [
    "# The coefficients\n",
    "#print('Coefficients: \\n', regr.coef_)\n",
    "# The mean squared error\n",
    "print(\"Mean squared error: %.2f\"\n",
    "      % mean_squared_error(y_test, y_pred))\n",
    "# Explained variance score: 1 is perfect prediction\n",
    "print('Variance score: %.2f' % r2_score(y_test, y_pred))\n",
    "\n",
    "print(\"Mean absolute error: %.2f\"\n",
    "      % mean_absolute_error(y_test, y_pred))\n",
    "\n",
    "print y_test.shape\n",
    "print y_pred.shape\n",
    "print(\"mean_absolute_percentage_error: %.2f\"\n",
    "      % mean_absolute_percentage_error(np.ravel(y_test), np.ravel(y_pred)))"
   ]
  },
  {
   "cell_type": "markdown",
   "metadata": {},
   "source": [
    "#### Using ridgeCV, and experimenting with various cv and alphas values, we get the same MAPE value of 113.15. "
   ]
  },
  {
   "cell_type": "markdown",
   "metadata": {},
   "source": [
    "### Lasso regression"
   ]
  },
  {
   "cell_type": "code",
   "execution_count": 61,
   "metadata": {},
   "outputs": [
    {
     "name": "stderr",
     "output_type": "stream",
     "text": [
      "C:\\Users\\gilad\\Anaconda2\\lib\\site-packages\\sklearn\\linear_model\\coordinate_descent.py:491: ConvergenceWarning: Objective did not converge. You might want to increase the number of iterations. Fitting data with very small alpha may cause precision problems.\n",
      "  ConvergenceWarning)\n"
     ]
    }
   ],
   "source": [
    "from sklearn import linear_model\n",
    "clf = linear_model.Lasso(alpha=0.01, max_iter=50)\n",
    "clf.fit(X_train, y_train) \n",
    "y_test = clf.predict(X_test)"
   ]
  },
  {
   "cell_type": "code",
   "execution_count": 62,
   "metadata": {},
   "outputs": [
    {
     "name": "stdout",
     "output_type": "stream",
     "text": [
      "Mean squared error: 4295317296968098.50\n",
      "Variance score: 0.86\n",
      "Mean absolute error: 39446345.71\n",
      "(1053L,)\n",
      "(1053L,)\n",
      "mean_absolute_percentage_error: 133.29\n"
     ]
    }
   ],
   "source": [
    "# The coefficients\n",
    "#print('Coefficients: \\n', regr.coef_)\n",
    "# The mean squared error\n",
    "print(\"Mean squared error: %.2f\"\n",
    "      % mean_squared_error(y_test, y_pred))\n",
    "# Explained variance score: 1 is perfect prediction\n",
    "print('Variance score: %.2f' % r2_score(y_test, y_pred))\n",
    "\n",
    "print(\"Mean absolute error: %.2f\"\n",
    "      % mean_absolute_error(y_test, y_pred))\n",
    "\n",
    "print y_test.shape\n",
    "print y_pred.shape\n",
    "print(\"mean_absolute_percentage_error: %.2f\"\n",
    "      % mean_absolute_percentage_error(np.ravel(y_test), np.ravel(y_pred)))"
   ]
  },
  {
   "cell_type": "markdown",
   "metadata": {},
   "source": [
    "### We have experimented with various Lasso regression parameters. The best we get is a MAPE score of 123.28%. Also, we've discovered that increasing the max_iter value produces a slightly better value (3%)"
   ]
  },
  {
   "cell_type": "markdown",
   "metadata": {},
   "source": [
    "### Grid search CV"
   ]
  },
  {
   "cell_type": "code",
   "execution_count": 63,
   "metadata": {},
   "outputs": [
    {
     "name": "stdout",
     "output_type": "stream",
     "text": [
      "r2 / variance :  0.679074204513\n"
     ]
    }
   ],
   "source": [
    "from sklearn import svm, datasets\n",
    "from sklearn.model_selection import GridSearchCV\n",
    "model = linear_model.LinearRegression()\n",
    "parameters = {'copy_X':[True, False]}\n",
    "grid = GridSearchCV(model,parameters, cv=None)\n",
    "grid.fit(X_train, y_train)\n",
    "print \"r2 / variance : \", grid.best_score_"
   ]
  },
  {
   "cell_type": "code",
   "execution_count": 64,
   "metadata": {},
   "outputs": [
    {
     "name": "stdout",
     "output_type": "stream",
     "text": [
      "Mean squared error: 4301134876075853.50\n",
      "Variance score: 0.86\n",
      "Mean absolute error: 39533813.93\n",
      "(1053L, 1L)\n",
      "(1053L,)\n",
      "mean_absolute_percentage_error: 221.02\n"
     ]
    }
   ],
   "source": [
    "y_test = grid.predict(X_test)\n",
    "\n",
    "# The coefficients\n",
    "#print('Coefficients: \\n', regr.coef_)\n",
    "# The mean squared error\n",
    "print(\"Mean squared error: %.2f\"\n",
    "      % mean_squared_error(y_test, y_pred))\n",
    "# Explained variance score: 1 is perfect prediction\n",
    "print('Variance score: %.2f' % r2_score(y_test, y_pred))\n",
    "\n",
    "print(\"Mean absolute error: %.2f\"\n",
    "      % mean_absolute_error(y_test, y_pred))\n",
    "\n",
    "print y_test.shape\n",
    "print y_pred.shape\n",
    "print(\"mean_absolute_percentage_error: %.2f\"\n",
    "      % mean_absolute_percentage_error(np.ravel(y_test), np.ravel(y_pred)))\n"
   ]
  },
  {
   "cell_type": "markdown",
   "metadata": {},
   "source": [
    "### Above you can see the results for a cross validated grid-search. We got 123.28% of MAPE, which worse thatn our best model so far."
   ]
  },
  {
   "cell_type": "markdown",
   "metadata": {},
   "source": [
    "## Stacking"
   ]
  },
  {
   "cell_type": "code",
   "execution_count": null,
   "metadata": {},
   "outputs": [
    {
     "name": "stderr",
     "output_type": "stream",
     "text": [
      "C:\\Users\\gilad\\Anaconda2\\lib\\site-packages\\sklearn\\utils\\validation.py:578: DataConversionWarning: A column-vector y was passed when a 1d array was expected. Please change the shape of y to (n_samples, ), for example using ravel().\n",
      "  y = column_or_1d(y, warn=True)\n"
     ]
    }
   ],
   "source": [
    "# from sklearn.model_selection import GridSearchCV\n",
    "# from sklearn.linear_model import Lasso\n",
    "# from mlxtend.regressor import StackingRegressor\n",
    "# from sklearn.linear_model import LinearRegression\n",
    "# from sklearn.linear_model import Ridge\n",
    "# from sklearn.svm import SVR\n",
    "# import matplotlib.pyplot as plt\n",
    "# import numpy as np\n",
    "# # Initializing models\n",
    "\n",
    "# lr = LinearRegression()\n",
    "# svr_lin = SVR(kernel='linear')\n",
    "# ridge = Ridge(random_state=1)\n",
    "# lasso = Lasso(random_state=1)\n",
    "# svr_rbf = SVR(kernel='rbf')\n",
    "# regressors = [svr_lin, lr, ridge, lasso]\n",
    "# stregr = StackingRegressor(regressors=regressors, \n",
    "#                            meta_regressor=svr_rbf)\n",
    "\n",
    "# params = {'lasso__alpha': [0.1, 1.0, 10.0],\n",
    "#           'ridge__alpha': [0.1, 1.0, 10.0],\n",
    "#           'svr__C': [0.1, 1.0, 10.0],\n",
    "#           'meta-svr__C': [0.1, 1.0, 10.0, 100.0],\n",
    "#           'meta-svr__gamma': [0.1, 1.0, 10.0]}\n",
    "\n",
    "# grid = GridSearchCV(estimator=stregr, \n",
    "#                     param_grid=params, \n",
    "#                     cv=5,\n",
    "#                     refit=True)\n",
    "# grid.fit(X_train, y_train)\n",
    "\n",
    "# for params, mean_score, scores in grid.grid_scores_:\n",
    "#         print(\"%0.3f +/- %0.2f %r\"\n",
    "#               % (mean_score, scores.std() / 2.0, params))\n"
   ]
  },
  {
   "cell_type": "code",
   "execution_count": 97,
   "metadata": {},
   "outputs": [
    {
     "name": "stdout",
     "output_type": "stream",
     "text": [
      "MAPE value: 19.89%\n"
     ]
    }
   ],
   "source": [
    "from sklearn.model_selection import GridSearchCV\n",
    "from sklearn.linear_model import Lasso\n",
    "from mlxtend.regressor import StackingRegressor\n",
    "from sklearn.linear_model import LinearRegression\n",
    "from sklearn.linear_model import Ridge\n",
    "from sklearn.svm import SVR\n",
    "import matplotlib.pyplot as plt\n",
    "import numpy as np\n",
    "\n",
    "#lasso = linear_model.Lasso(alpha=0.01, max_iter=50)\n",
    "#svr_lin = SVR(kernel='linear')\n",
    "#svr_rbf = SVR(kernel='rbf')\n",
    "lr = LinearRegression()\n",
    "ridge = Ridge(random_state=1, alpha=7)\n",
    "xgb2 = xgboost.XGBRegressor(n_estimators=100, learning_rate=0.08, gamma=0.5, subsample=0.75, colsample_bytree=1, max_depth=7)\n",
    "xgb3 = xgboost.XGBRegressor(n_estimators=100, learning_rate=0.08, gamma=0.5, subsample=0.75, colsample_bytree=1, max_depth=5)\n",
    "\n",
    "stregr = StackingRegressor(regressors=[ridge, lr, xgb2], \n",
    "                           meta_regressor=xgb3)\n",
    "\n",
    "# Training the stacking classifier\n",
    "\n",
    "stregr.fit(X_train, y_train)\n",
    "y_test = stregr.predict(X_test)\n",
    "\n",
    "print(\"MAPE value: %.2f\"\n",
    "      % mean_absolute_percentage_error(np.ravel(y_test), np.ravel(y_pred)) + \"%\")\n",
    "\n",
    "# Evaluate and visualize the fit\n",
    "\n",
    "# print(\"Mean Squared Error: %.4f\"\n",
    "#       % np.mean((y_test - y_pred) ** 2))\n",
    "# #print('Variance Score: %.4f' % stregr.score(X, y))\n",
    "\n",
    "# with plt.style.context(('seaborn-whitegrid')):\n",
    "#     plt.scatter(X, y, c='lightgray')\n",
    "#     plt.plot(X, stregr.predict(X), c='darkgreen', lw=2)\n",
    "\n",
    "# plt.show()"
   ]
  },
  {
   "cell_type": "code",
   "execution_count": 100,
   "metadata": {},
   "outputs": [
    {
     "name": "stdout",
     "output_type": "stream",
     "text": [
      "[  1.85416432e+08   6.69931648e+08   3.20356832e+08   3.43358240e+07\n",
      "   6.57101050e+06   5.45511750e+06   1.43628208e+08   3.53845850e+06\n",
      "   3.53845850e+06   8.78989920e+07   3.18520900e+07   4.69650850e+06]\n",
      "[  1.77329600e+08   6.48168704e+08   3.11263904e+08   3.55156200e+07\n",
      "   8.70120200e+06   7.82749250e+06   1.41628784e+08   2.78485650e+06\n",
      "   3.65647800e+06   7.86189360e+07   4.32815120e+07   6.52480150e+06]\n"
     ]
    }
   ],
   "source": [
    "print y_test[:12]\n",
    "print y_pred[:12]"
   ]
  },
  {
   "cell_type": "code",
   "execution_count": 103,
   "metadata": {},
   "outputs": [
    {
     "data": {
      "image/png": "[encoded data removed]",
      "text/plain": [
       "<matplotlib.figure.Figure at 0x1214bef0>"
      ]
     },
     "metadata": {},
     "output_type": "display_data"
    }
   ],
   "source": [
    "mapeVals = []\n",
    "for i in range(0,len(y_pred)):\n",
    "    mapeVals.append(mean_absolute_percentage_error(y_pred[i],y_test[i]))\n",
    "plt.scatter(y_test, mapeVals)\n",
    "plt.xlabel(\"True Revenue\")\n",
    "plt.ylabel(\"MAPE\")\n",
    "plt.show()"
   ]
  }
 ],
 "metadata": {
  "kernelspec": {
   "display_name": "Python 2",
   "language": "python",
   "name": "python2"
  },
  "language_info": {
   "codemirror_mode": {
    "name": "ipython",
    "version": 2
   },
   "file_extension": ".py",
   "mimetype": "text/x-python",
   "name": "python",
   "nbconvert_exporter": "python",
   "pygments_lexer": "ipython2",
   "version": "2.7.14"
  }
 },
 "nbformat": 4,
 "nbformat_minor": 2
}
